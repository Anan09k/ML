{
  "cells": [
    {
      "cell_type": "code",
      "execution_count": 68,
      "id": "6c9cf898-eb28-455a-b17e-16fe1ca55b3e",
      "metadata": {
        "id": "6c9cf898-eb28-455a-b17e-16fe1ca55b3e"
      },
      "outputs": [],
      "source": [
        "#IMPORTING RELEVANT LIBRARIES.\n",
        "\n",
        "import pandas as pd\n",
        "import numpy as np\n",
        "import seaborn as sns\n",
        "import matplotlib.pyplot as plt\n"
      ]
    },
    {
      "cell_type": "code",
      "source": [
        "#IMPORTING THE DATA FROM KAGGLE USING` API\n",
        "!mkdir -p ~/.kaggle\n",
        "!mv kaggle.json ~/.kaggle/\n",
        "!chmod 600 ~/.kaggle/kaggle.json\n",
        "\n",
        "!kaggle datasets download -d liujiaqi/hr-comma-sepcsv\n",
        "\n",
        "!unzip hr-comma-sepcsv.zip\n",
        "\n",
        "data = pd.read_csv('HR_comma_sep.csv')\n"
      ],
      "metadata": {
        "colab": {
          "base_uri": "https://localhost:8080/"
        },
        "id": "eYAV5XXt7b41",
        "outputId": "b56e7192-04f2-4a84-8f86-c9c3df16662f"
      },
      "id": "eYAV5XXt7b41",
      "execution_count": 10,
      "outputs": [
        {
          "output_type": "stream",
          "name": "stdout",
          "text": [
            "Dataset URL: https://www.kaggle.com/datasets/liujiaqi/hr-comma-sepcsv\n",
            "License(s): CC0-1.0\n",
            "Downloading hr-comma-sepcsv.zip to /content\n",
            "  0% 0.00/111k [00:00<?, ?B/s]\n",
            "100% 111k/111k [00:00<00:00, 57.6MB/s]\n",
            "Archive:  hr-comma-sepcsv.zip\n",
            "  inflating: HR_comma_sep.csv        \n"
          ]
        }
      ]
    },
    {
      "cell_type": "code",
      "execution_count": 11,
      "id": "8f4190dd-cf65-4464-84c0-3d7f78200a36",
      "metadata": {
        "id": "8f4190dd-cf65-4464-84c0-3d7f78200a36",
        "outputId": "945222c5-bba3-45c9-9ab7-dd3f7b6dc4bc",
        "colab": {
          "base_uri": "https://localhost:8080/",
          "height": 226
        }
      },
      "outputs": [
        {
          "output_type": "execute_result",
          "data": {
            "text/plain": [
              "   satisfaction_level  last_evaluation  number_project  average_montly_hours  \\\n",
              "0                0.38             0.53               2                   157   \n",
              "1                0.80             0.86               5                   262   \n",
              "2                0.11             0.88               7                   272   \n",
              "3                0.72             0.87               5                   223   \n",
              "4                0.37             0.52               2                   159   \n",
              "\n",
              "   time_spend_company  Work_accident  left  promotion_last_5years  sales  \\\n",
              "0                   3              0     1                      0  sales   \n",
              "1                   6              0     1                      0  sales   \n",
              "2                   4              0     1                      0  sales   \n",
              "3                   5              0     1                      0  sales   \n",
              "4                   3              0     1                      0  sales   \n",
              "\n",
              "   salary  \n",
              "0     low  \n",
              "1  medium  \n",
              "2  medium  \n",
              "3     low  \n",
              "4     low  "
            ],
            "text/html": [
              "\n",
              "  <div id=\"df-1e55a17b-f28c-4e4e-b83a-816b8d06332c\" class=\"colab-df-container\">\n",
              "    <div>\n",
              "<style scoped>\n",
              "    .dataframe tbody tr th:only-of-type {\n",
              "        vertical-align: middle;\n",
              "    }\n",
              "\n",
              "    .dataframe tbody tr th {\n",
              "        vertical-align: top;\n",
              "    }\n",
              "\n",
              "    .dataframe thead th {\n",
              "        text-align: right;\n",
              "    }\n",
              "</style>\n",
              "<table border=\"1\" class=\"dataframe\">\n",
              "  <thead>\n",
              "    <tr style=\"text-align: right;\">\n",
              "      <th></th>\n",
              "      <th>satisfaction_level</th>\n",
              "      <th>last_evaluation</th>\n",
              "      <th>number_project</th>\n",
              "      <th>average_montly_hours</th>\n",
              "      <th>time_spend_company</th>\n",
              "      <th>Work_accident</th>\n",
              "      <th>left</th>\n",
              "      <th>promotion_last_5years</th>\n",
              "      <th>sales</th>\n",
              "      <th>salary</th>\n",
              "    </tr>\n",
              "  </thead>\n",
              "  <tbody>\n",
              "    <tr>\n",
              "      <th>0</th>\n",
              "      <td>0.38</td>\n",
              "      <td>0.53</td>\n",
              "      <td>2</td>\n",
              "      <td>157</td>\n",
              "      <td>3</td>\n",
              "      <td>0</td>\n",
              "      <td>1</td>\n",
              "      <td>0</td>\n",
              "      <td>sales</td>\n",
              "      <td>low</td>\n",
              "    </tr>\n",
              "    <tr>\n",
              "      <th>1</th>\n",
              "      <td>0.80</td>\n",
              "      <td>0.86</td>\n",
              "      <td>5</td>\n",
              "      <td>262</td>\n",
              "      <td>6</td>\n",
              "      <td>0</td>\n",
              "      <td>1</td>\n",
              "      <td>0</td>\n",
              "      <td>sales</td>\n",
              "      <td>medium</td>\n",
              "    </tr>\n",
              "    <tr>\n",
              "      <th>2</th>\n",
              "      <td>0.11</td>\n",
              "      <td>0.88</td>\n",
              "      <td>7</td>\n",
              "      <td>272</td>\n",
              "      <td>4</td>\n",
              "      <td>0</td>\n",
              "      <td>1</td>\n",
              "      <td>0</td>\n",
              "      <td>sales</td>\n",
              "      <td>medium</td>\n",
              "    </tr>\n",
              "    <tr>\n",
              "      <th>3</th>\n",
              "      <td>0.72</td>\n",
              "      <td>0.87</td>\n",
              "      <td>5</td>\n",
              "      <td>223</td>\n",
              "      <td>5</td>\n",
              "      <td>0</td>\n",
              "      <td>1</td>\n",
              "      <td>0</td>\n",
              "      <td>sales</td>\n",
              "      <td>low</td>\n",
              "    </tr>\n",
              "    <tr>\n",
              "      <th>4</th>\n",
              "      <td>0.37</td>\n",
              "      <td>0.52</td>\n",
              "      <td>2</td>\n",
              "      <td>159</td>\n",
              "      <td>3</td>\n",
              "      <td>0</td>\n",
              "      <td>1</td>\n",
              "      <td>0</td>\n",
              "      <td>sales</td>\n",
              "      <td>low</td>\n",
              "    </tr>\n",
              "  </tbody>\n",
              "</table>\n",
              "</div>\n",
              "    <div class=\"colab-df-buttons\">\n",
              "\n",
              "  <div class=\"colab-df-container\">\n",
              "    <button class=\"colab-df-convert\" onclick=\"convertToInteractive('df-1e55a17b-f28c-4e4e-b83a-816b8d06332c')\"\n",
              "            title=\"Convert this dataframe to an interactive table.\"\n",
              "            style=\"display:none;\">\n",
              "\n",
              "  <svg xmlns=\"http://www.w3.org/2000/svg\" height=\"24px\" viewBox=\"0 -960 960 960\">\n",
              "    <path d=\"M120-120v-720h720v720H120Zm60-500h600v-160H180v160Zm220 220h160v-160H400v160Zm0 220h160v-160H400v160ZM180-400h160v-160H180v160Zm440 0h160v-160H620v160ZM180-180h160v-160H180v160Zm440 0h160v-160H620v160Z\"/>\n",
              "  </svg>\n",
              "    </button>\n",
              "\n",
              "  <style>\n",
              "    .colab-df-container {\n",
              "      display:flex;\n",
              "      gap: 12px;\n",
              "    }\n",
              "\n",
              "    .colab-df-convert {\n",
              "      background-color: #E8F0FE;\n",
              "      border: none;\n",
              "      border-radius: 50%;\n",
              "      cursor: pointer;\n",
              "      display: none;\n",
              "      fill: #1967D2;\n",
              "      height: 32px;\n",
              "      padding: 0 0 0 0;\n",
              "      width: 32px;\n",
              "    }\n",
              "\n",
              "    .colab-df-convert:hover {\n",
              "      background-color: #E2EBFA;\n",
              "      box-shadow: 0px 1px 2px rgba(60, 64, 67, 0.3), 0px 1px 3px 1px rgba(60, 64, 67, 0.15);\n",
              "      fill: #174EA6;\n",
              "    }\n",
              "\n",
              "    .colab-df-buttons div {\n",
              "      margin-bottom: 4px;\n",
              "    }\n",
              "\n",
              "    [theme=dark] .colab-df-convert {\n",
              "      background-color: #3B4455;\n",
              "      fill: #D2E3FC;\n",
              "    }\n",
              "\n",
              "    [theme=dark] .colab-df-convert:hover {\n",
              "      background-color: #434B5C;\n",
              "      box-shadow: 0px 1px 3px 1px rgba(0, 0, 0, 0.15);\n",
              "      filter: drop-shadow(0px 1px 2px rgba(0, 0, 0, 0.3));\n",
              "      fill: #FFFFFF;\n",
              "    }\n",
              "  </style>\n",
              "\n",
              "    <script>\n",
              "      const buttonEl =\n",
              "        document.querySelector('#df-1e55a17b-f28c-4e4e-b83a-816b8d06332c button.colab-df-convert');\n",
              "      buttonEl.style.display =\n",
              "        google.colab.kernel.accessAllowed ? 'block' : 'none';\n",
              "\n",
              "      async function convertToInteractive(key) {\n",
              "        const element = document.querySelector('#df-1e55a17b-f28c-4e4e-b83a-816b8d06332c');\n",
              "        const dataTable =\n",
              "          await google.colab.kernel.invokeFunction('convertToInteractive',\n",
              "                                                    [key], {});\n",
              "        if (!dataTable) return;\n",
              "\n",
              "        const docLinkHtml = 'Like what you see? Visit the ' +\n",
              "          '<a target=\"_blank\" href=https://colab.research.google.com/notebooks/data_table.ipynb>data table notebook</a>'\n",
              "          + ' to learn more about interactive tables.';\n",
              "        element.innerHTML = '';\n",
              "        dataTable['output_type'] = 'display_data';\n",
              "        await google.colab.output.renderOutput(dataTable, element);\n",
              "        const docLink = document.createElement('div');\n",
              "        docLink.innerHTML = docLinkHtml;\n",
              "        element.appendChild(docLink);\n",
              "      }\n",
              "    </script>\n",
              "  </div>\n",
              "\n",
              "\n",
              "<div id=\"df-1d5f80a9-16b9-43bb-88bf-9c3099275ef1\">\n",
              "  <button class=\"colab-df-quickchart\" onclick=\"quickchart('df-1d5f80a9-16b9-43bb-88bf-9c3099275ef1')\"\n",
              "            title=\"Suggest charts\"\n",
              "            style=\"display:none;\">\n",
              "\n",
              "<svg xmlns=\"http://www.w3.org/2000/svg\" height=\"24px\"viewBox=\"0 0 24 24\"\n",
              "     width=\"24px\">\n",
              "    <g>\n",
              "        <path d=\"M19 3H5c-1.1 0-2 .9-2 2v14c0 1.1.9 2 2 2h14c1.1 0 2-.9 2-2V5c0-1.1-.9-2-2-2zM9 17H7v-7h2v7zm4 0h-2V7h2v10zm4 0h-2v-4h2v4z\"/>\n",
              "    </g>\n",
              "</svg>\n",
              "  </button>\n",
              "\n",
              "<style>\n",
              "  .colab-df-quickchart {\n",
              "      --bg-color: #E8F0FE;\n",
              "      --fill-color: #1967D2;\n",
              "      --hover-bg-color: #E2EBFA;\n",
              "      --hover-fill-color: #174EA6;\n",
              "      --disabled-fill-color: #AAA;\n",
              "      --disabled-bg-color: #DDD;\n",
              "  }\n",
              "\n",
              "  [theme=dark] .colab-df-quickchart {\n",
              "      --bg-color: #3B4455;\n",
              "      --fill-color: #D2E3FC;\n",
              "      --hover-bg-color: #434B5C;\n",
              "      --hover-fill-color: #FFFFFF;\n",
              "      --disabled-bg-color: #3B4455;\n",
              "      --disabled-fill-color: #666;\n",
              "  }\n",
              "\n",
              "  .colab-df-quickchart {\n",
              "    background-color: var(--bg-color);\n",
              "    border: none;\n",
              "    border-radius: 50%;\n",
              "    cursor: pointer;\n",
              "    display: none;\n",
              "    fill: var(--fill-color);\n",
              "    height: 32px;\n",
              "    padding: 0;\n",
              "    width: 32px;\n",
              "  }\n",
              "\n",
              "  .colab-df-quickchart:hover {\n",
              "    background-color: var(--hover-bg-color);\n",
              "    box-shadow: 0 1px 2px rgba(60, 64, 67, 0.3), 0 1px 3px 1px rgba(60, 64, 67, 0.15);\n",
              "    fill: var(--button-hover-fill-color);\n",
              "  }\n",
              "\n",
              "  .colab-df-quickchart-complete:disabled,\n",
              "  .colab-df-quickchart-complete:disabled:hover {\n",
              "    background-color: var(--disabled-bg-color);\n",
              "    fill: var(--disabled-fill-color);\n",
              "    box-shadow: none;\n",
              "  }\n",
              "\n",
              "  .colab-df-spinner {\n",
              "    border: 2px solid var(--fill-color);\n",
              "    border-color: transparent;\n",
              "    border-bottom-color: var(--fill-color);\n",
              "    animation:\n",
              "      spin 1s steps(1) infinite;\n",
              "  }\n",
              "\n",
              "  @keyframes spin {\n",
              "    0% {\n",
              "      border-color: transparent;\n",
              "      border-bottom-color: var(--fill-color);\n",
              "      border-left-color: var(--fill-color);\n",
              "    }\n",
              "    20% {\n",
              "      border-color: transparent;\n",
              "      border-left-color: var(--fill-color);\n",
              "      border-top-color: var(--fill-color);\n",
              "    }\n",
              "    30% {\n",
              "      border-color: transparent;\n",
              "      border-left-color: var(--fill-color);\n",
              "      border-top-color: var(--fill-color);\n",
              "      border-right-color: var(--fill-color);\n",
              "    }\n",
              "    40% {\n",
              "      border-color: transparent;\n",
              "      border-right-color: var(--fill-color);\n",
              "      border-top-color: var(--fill-color);\n",
              "    }\n",
              "    60% {\n",
              "      border-color: transparent;\n",
              "      border-right-color: var(--fill-color);\n",
              "    }\n",
              "    80% {\n",
              "      border-color: transparent;\n",
              "      border-right-color: var(--fill-color);\n",
              "      border-bottom-color: var(--fill-color);\n",
              "    }\n",
              "    90% {\n",
              "      border-color: transparent;\n",
              "      border-bottom-color: var(--fill-color);\n",
              "    }\n",
              "  }\n",
              "</style>\n",
              "\n",
              "  <script>\n",
              "    async function quickchart(key) {\n",
              "      const quickchartButtonEl =\n",
              "        document.querySelector('#' + key + ' button');\n",
              "      quickchartButtonEl.disabled = true;  // To prevent multiple clicks.\n",
              "      quickchartButtonEl.classList.add('colab-df-spinner');\n",
              "      try {\n",
              "        const charts = await google.colab.kernel.invokeFunction(\n",
              "            'suggestCharts', [key], {});\n",
              "      } catch (error) {\n",
              "        console.error('Error during call to suggestCharts:', error);\n",
              "      }\n",
              "      quickchartButtonEl.classList.remove('colab-df-spinner');\n",
              "      quickchartButtonEl.classList.add('colab-df-quickchart-complete');\n",
              "    }\n",
              "    (() => {\n",
              "      let quickchartButtonEl =\n",
              "        document.querySelector('#df-1d5f80a9-16b9-43bb-88bf-9c3099275ef1 button');\n",
              "      quickchartButtonEl.style.display =\n",
              "        google.colab.kernel.accessAllowed ? 'block' : 'none';\n",
              "    })();\n",
              "  </script>\n",
              "</div>\n",
              "\n",
              "    </div>\n",
              "  </div>\n"
            ],
            "application/vnd.google.colaboratory.intrinsic+json": {
              "type": "dataframe",
              "variable_name": "data",
              "summary": "{\n  \"name\": \"data\",\n  \"rows\": 14999,\n  \"fields\": [\n    {\n      \"column\": \"satisfaction_level\",\n      \"properties\": {\n        \"dtype\": \"number\",\n        \"std\": 0.2486306510611418,\n        \"min\": 0.09,\n        \"max\": 1.0,\n        \"num_unique_values\": 92,\n        \"samples\": [\n          0.83,\n          0.13,\n          0.55\n        ],\n        \"semantic_type\": \"\",\n        \"description\": \"\"\n      }\n    },\n    {\n      \"column\": \"last_evaluation\",\n      \"properties\": {\n        \"dtype\": \"number\",\n        \"std\": 0.17116911062327592,\n        \"min\": 0.36,\n        \"max\": 1.0,\n        \"num_unique_values\": 65,\n        \"samples\": [\n          0.66,\n          0.44,\n          0.53\n        ],\n        \"semantic_type\": \"\",\n        \"description\": \"\"\n      }\n    },\n    {\n      \"column\": \"number_project\",\n      \"properties\": {\n        \"dtype\": \"number\",\n        \"std\": 1,\n        \"min\": 2,\n        \"max\": 7,\n        \"num_unique_values\": 6,\n        \"samples\": [\n          2,\n          5,\n          3\n        ],\n        \"semantic_type\": \"\",\n        \"description\": \"\"\n      }\n    },\n    {\n      \"column\": \"average_montly_hours\",\n      \"properties\": {\n        \"dtype\": \"number\",\n        \"std\": 49,\n        \"min\": 96,\n        \"max\": 310,\n        \"num_unique_values\": 215,\n        \"samples\": [\n          118,\n          112,\n          222\n        ],\n        \"semantic_type\": \"\",\n        \"description\": \"\"\n      }\n    },\n    {\n      \"column\": \"time_spend_company\",\n      \"properties\": {\n        \"dtype\": \"number\",\n        \"std\": 1,\n        \"min\": 2,\n        \"max\": 10,\n        \"num_unique_values\": 8,\n        \"samples\": [\n          6,\n          8,\n          3\n        ],\n        \"semantic_type\": \"\",\n        \"description\": \"\"\n      }\n    },\n    {\n      \"column\": \"Work_accident\",\n      \"properties\": {\n        \"dtype\": \"number\",\n        \"std\": 0,\n        \"min\": 0,\n        \"max\": 1,\n        \"num_unique_values\": 2,\n        \"samples\": [\n          1,\n          0\n        ],\n        \"semantic_type\": \"\",\n        \"description\": \"\"\n      }\n    },\n    {\n      \"column\": \"left\",\n      \"properties\": {\n        \"dtype\": \"number\",\n        \"std\": 0,\n        \"min\": 0,\n        \"max\": 1,\n        \"num_unique_values\": 2,\n        \"samples\": [\n          0,\n          1\n        ],\n        \"semantic_type\": \"\",\n        \"description\": \"\"\n      }\n    },\n    {\n      \"column\": \"promotion_last_5years\",\n      \"properties\": {\n        \"dtype\": \"number\",\n        \"std\": 0,\n        \"min\": 0,\n        \"max\": 1,\n        \"num_unique_values\": 2,\n        \"samples\": [\n          1,\n          0\n        ],\n        \"semantic_type\": \"\",\n        \"description\": \"\"\n      }\n    },\n    {\n      \"column\": \"sales\",\n      \"properties\": {\n        \"dtype\": \"category\",\n        \"num_unique_values\": 10,\n        \"samples\": [\n          \"marketing\",\n          \"accounting\"\n        ],\n        \"semantic_type\": \"\",\n        \"description\": \"\"\n      }\n    },\n    {\n      \"column\": \"salary\",\n      \"properties\": {\n        \"dtype\": \"category\",\n        \"num_unique_values\": 3,\n        \"samples\": [\n          \"low\",\n          \"medium\"\n        ],\n        \"semantic_type\": \"\",\n        \"description\": \"\"\n      }\n    }\n  ]\n}"
            }
          },
          "metadata": {},
          "execution_count": 11
        }
      ],
      "source": [
        "data.head()"
      ]
    },
    {
      "cell_type": "code",
      "execution_count": 12,
      "id": "ceb2a216-737e-4a17-8a23-1d65d15c65b5",
      "metadata": {
        "id": "ceb2a216-737e-4a17-8a23-1d65d15c65b5",
        "outputId": "843cd188-f7ed-465c-8aa4-cadce534167d",
        "colab": {
          "base_uri": "https://localhost:8080/"
        }
      },
      "outputs": [
        {
          "output_type": "stream",
          "name": "stdout",
          "text": [
            "<class 'pandas.core.frame.DataFrame'>\n",
            "RangeIndex: 14999 entries, 0 to 14998\n",
            "Data columns (total 10 columns):\n",
            " #   Column                 Non-Null Count  Dtype  \n",
            "---  ------                 --------------  -----  \n",
            " 0   satisfaction_level     14999 non-null  float64\n",
            " 1   last_evaluation        14999 non-null  float64\n",
            " 2   number_project         14999 non-null  int64  \n",
            " 3   average_montly_hours   14999 non-null  int64  \n",
            " 4   time_spend_company     14999 non-null  int64  \n",
            " 5   Work_accident          14999 non-null  int64  \n",
            " 6   left                   14999 non-null  int64  \n",
            " 7   promotion_last_5years  14999 non-null  int64  \n",
            " 8   sales                  14999 non-null  object \n",
            " 9   salary                 14999 non-null  object \n",
            "dtypes: float64(2), int64(6), object(2)\n",
            "memory usage: 1.1+ MB\n"
          ]
        }
      ],
      "source": [
        "data.info()"
      ]
    },
    {
      "cell_type": "markdown",
      "id": "ef50522d-61fa-4d56-a307-f2a75e1f78c3",
      "metadata": {
        "id": "ef50522d-61fa-4d56-a307-f2a75e1f78c3"
      },
      "source": [
        "# Preprocess the data (e.g., handle missing values, normalize or scale features, encode categorical variables)."
      ]
    },
    {
      "cell_type": "code",
      "execution_count": 13,
      "id": "4747a1f7-a78f-4c7f-a5df-0aa7eaf89220",
      "metadata": {
        "id": "4747a1f7-a78f-4c7f-a5df-0aa7eaf89220",
        "outputId": "dbf551ed-448a-47e5-89e7-41393c8ccbcd",
        "colab": {
          "base_uri": "https://localhost:8080/",
          "height": 397
        }
      },
      "outputs": [
        {
          "output_type": "execute_result",
          "data": {
            "text/plain": [
              "satisfaction_level       0\n",
              "last_evaluation          0\n",
              "number_project           0\n",
              "average_montly_hours     0\n",
              "time_spend_company       0\n",
              "Work_accident            0\n",
              "left                     0\n",
              "promotion_last_5years    0\n",
              "sales                    0\n",
              "salary                   0\n",
              "dtype: int64"
            ],
            "text/html": [
              "<div>\n",
              "<style scoped>\n",
              "    .dataframe tbody tr th:only-of-type {\n",
              "        vertical-align: middle;\n",
              "    }\n",
              "\n",
              "    .dataframe tbody tr th {\n",
              "        vertical-align: top;\n",
              "    }\n",
              "\n",
              "    .dataframe thead th {\n",
              "        text-align: right;\n",
              "    }\n",
              "</style>\n",
              "<table border=\"1\" class=\"dataframe\">\n",
              "  <thead>\n",
              "    <tr style=\"text-align: right;\">\n",
              "      <th></th>\n",
              "      <th>0</th>\n",
              "    </tr>\n",
              "  </thead>\n",
              "  <tbody>\n",
              "    <tr>\n",
              "      <th>satisfaction_level</th>\n",
              "      <td>0</td>\n",
              "    </tr>\n",
              "    <tr>\n",
              "      <th>last_evaluation</th>\n",
              "      <td>0</td>\n",
              "    </tr>\n",
              "    <tr>\n",
              "      <th>number_project</th>\n",
              "      <td>0</td>\n",
              "    </tr>\n",
              "    <tr>\n",
              "      <th>average_montly_hours</th>\n",
              "      <td>0</td>\n",
              "    </tr>\n",
              "    <tr>\n",
              "      <th>time_spend_company</th>\n",
              "      <td>0</td>\n",
              "    </tr>\n",
              "    <tr>\n",
              "      <th>Work_accident</th>\n",
              "      <td>0</td>\n",
              "    </tr>\n",
              "    <tr>\n",
              "      <th>left</th>\n",
              "      <td>0</td>\n",
              "    </tr>\n",
              "    <tr>\n",
              "      <th>promotion_last_5years</th>\n",
              "      <td>0</td>\n",
              "    </tr>\n",
              "    <tr>\n",
              "      <th>sales</th>\n",
              "      <td>0</td>\n",
              "    </tr>\n",
              "    <tr>\n",
              "      <th>salary</th>\n",
              "      <td>0</td>\n",
              "    </tr>\n",
              "  </tbody>\n",
              "</table>\n",
              "</div><br><label><b>dtype:</b> int64</label>"
            ]
          },
          "metadata": {},
          "execution_count": 13
        }
      ],
      "source": [
        "# Checking for missing values\n",
        "data.isna().sum()"
      ]
    },
    {
      "cell_type": "code",
      "execution_count": 14,
      "id": "d347f906-4be6-447d-ba81-14d0590fe5f2",
      "metadata": {
        "id": "d347f906-4be6-447d-ba81-14d0590fe5f2"
      },
      "outputs": [],
      "source": [
        "# No missing values"
      ]
    },
    {
      "cell_type": "code",
      "execution_count": 15,
      "id": "b24be926-4fcf-41df-925b-499f5edbad78",
      "metadata": {
        "id": "b24be926-4fcf-41df-925b-499f5edbad78"
      },
      "outputs": [],
      "source": [
        "# Drop duplicate entries and reset index\n",
        "data.drop_duplicates(inplace = True)"
      ]
    },
    {
      "cell_type": "code",
      "execution_count": null,
      "id": "b2e4791e-3901-45d1-b595-7f68232a3d93",
      "metadata": {
        "id": "b2e4791e-3901-45d1-b595-7f68232a3d93",
        "outputId": "23f38dc6-6f59-48ea-f3be-38f368a1b686"
      },
      "outputs": [
        {
          "name": "stdout",
          "output_type": "stream",
          "text": [
            "<class 'pandas.core.frame.DataFrame'>\n",
            "Index: 11991 entries, 0 to 11999\n",
            "Data columns (total 10 columns):\n",
            " #   Column                 Non-Null Count  Dtype  \n",
            "---  ------                 --------------  -----  \n",
            " 0   satisfaction_level     11991 non-null  float64\n",
            " 1   last_evaluation        11991 non-null  float64\n",
            " 2   number_project         11991 non-null  int64  \n",
            " 3   average_montly_hours   11991 non-null  int64  \n",
            " 4   time_spend_company     11991 non-null  int64  \n",
            " 5   Work_accident          11991 non-null  int64  \n",
            " 6   left                   11991 non-null  int64  \n",
            " 7   promotion_last_5years  11991 non-null  int64  \n",
            " 8   sales                  11991 non-null  object \n",
            " 9   salary                 11991 non-null  object \n",
            "dtypes: float64(2), int64(6), object(2)\n",
            "memory usage: 1.0+ MB\n"
          ]
        }
      ],
      "source": [
        "data.info()"
      ]
    },
    {
      "cell_type": "code",
      "execution_count": 16,
      "id": "746add72-943d-4928-b56b-3b42184b47fb",
      "metadata": {
        "id": "746add72-943d-4928-b56b-3b42184b47fb"
      },
      "outputs": [],
      "source": [
        "# Duplicates removed"
      ]
    },
    {
      "cell_type": "code",
      "execution_count": 17,
      "id": "db36ef1d-47de-453e-8cf2-ebaaf6d86fc3",
      "metadata": {
        "id": "db36ef1d-47de-453e-8cf2-ebaaf6d86fc3"
      },
      "outputs": [],
      "source": [
        "# Discrepancy in column name in dataset and description\n",
        "# Renaming\n",
        "data.rename(columns={'sales': 'Department'}, inplace=True)"
      ]
    },
    {
      "cell_type": "code",
      "execution_count": 18,
      "id": "24f464ae-e45a-498b-bf1f-6e8da877461d",
      "metadata": {
        "id": "24f464ae-e45a-498b-bf1f-6e8da877461d",
        "outputId": "dbd909de-ad33-4029-be85-4e16395aa68c",
        "colab": {
          "base_uri": "https://localhost:8080/"
        }
      },
      "outputs": [
        {
          "output_type": "stream",
          "name": "stdout",
          "text": [
            "<class 'pandas.core.frame.DataFrame'>\n",
            "Index: 11991 entries, 0 to 11999\n",
            "Data columns (total 10 columns):\n",
            " #   Column                 Non-Null Count  Dtype  \n",
            "---  ------                 --------------  -----  \n",
            " 0   satisfaction_level     11991 non-null  float64\n",
            " 1   last_evaluation        11991 non-null  float64\n",
            " 2   number_project         11991 non-null  int64  \n",
            " 3   average_montly_hours   11991 non-null  int64  \n",
            " 4   time_spend_company     11991 non-null  int64  \n",
            " 5   Work_accident          11991 non-null  int64  \n",
            " 6   left                   11991 non-null  int64  \n",
            " 7   promotion_last_5years  11991 non-null  int64  \n",
            " 8   Department             11991 non-null  object \n",
            " 9   salary                 11991 non-null  object \n",
            "dtypes: float64(2), int64(6), object(2)\n",
            "memory usage: 1.0+ MB\n"
          ]
        }
      ],
      "source": [
        "data.info()"
      ]
    },
    {
      "cell_type": "code",
      "execution_count": 19,
      "id": "1af0dd77-fd16-4af6-9a9d-af2b879641f9",
      "metadata": {
        "id": "1af0dd77-fd16-4af6-9a9d-af2b879641f9",
        "outputId": "5a8e81cf-f4df-444c-eff1-87e1c1126d21",
        "colab": {
          "base_uri": "https://localhost:8080/",
          "height": 104
        }
      },
      "outputs": [
        {
          "output_type": "execute_result",
          "data": {
            "text/plain": [
              "'\\n 0   satisfaction_level     11991 non-null  float64   ----- DND\\n 1   last_evaluation        11991 non-null  float64   ----- DND\\n 2   number_project         11991 non-null  int64     ----- CND\\n 3   average_montly_hours   11991 non-null  int64     ----- CND\\n 4   time_spend_company     11991 non-null  int64     ----- CND\\n 5   Work_accident          11991 non-null  int64     ----- Categorical\\n 6   left                   11991 non-null  int64     ----- Categorical\\n 7   promotion_last_5years  11991 non-null  int64     ----- Categorical\\n 8   Department             11991 non-null  object    ----- Categorical\\n 9   salary                 11991 non-null  object    ----- Ordinal\\n '"
            ],
            "application/vnd.google.colaboratory.intrinsic+json": {
              "type": "string"
            }
          },
          "metadata": {},
          "execution_count": 19
        }
      ],
      "source": [
        "#  Classify each column as numerical, ordinal, categorical\n",
        "\"\"\"\n",
        " 0   satisfaction_level     11991 non-null  float64   ----- DND\n",
        " 1   last_evaluation        11991 non-null  float64   ----- DND\n",
        " 2   number_project         11991 non-null  int64     ----- CND\n",
        " 3   average_montly_hours   11991 non-null  int64     ----- CND\n",
        " 4   time_spend_company     11991 non-null  int64     ----- CND\n",
        " 5   Work_accident          11991 non-null  int64     ----- Categorical\n",
        " 6   left                   11991 non-null  int64     ----- Categorical\n",
        " 7   promotion_last_5years  11991 non-null  int64     ----- Categorical\n",
        " 8   Department             11991 non-null  object    ----- Categorical\n",
        " 9   salary                 11991 non-null  object    ----- Ordinal\n",
        " \"\"\""
      ]
    },
    {
      "cell_type": "markdown",
      "id": "7f8834af-6a31-4c77-86a9-7a3ba558d124",
      "metadata": {
        "id": "7f8834af-6a31-4c77-86a9-7a3ba558d124"
      },
      "source": [
        "DND"
      ]
    },
    {
      "cell_type": "code",
      "execution_count": 20,
      "id": "396e0423-fb0c-476e-9baa-7cd19962af49",
      "metadata": {
        "id": "396e0423-fb0c-476e-9baa-7cd19962af49",
        "outputId": "dee2ed07-94bd-4153-c333-d8d4c51e6de6",
        "colab": {
          "base_uri": "https://localhost:8080/",
          "height": 52
        }
      },
      "outputs": [
        {
          "output_type": "execute_result",
          "data": {
            "text/plain": [
              "'\\n0   satisfaction_level     11991 non-null  float64   ----- DND --- +ve allowed, -ve not allowed, decimal allowed\\n1   last_evaluation        11991 non-null  float64   ----- DND --- +ve allowed (0-1), -ve not allowed, decimal allowed\\n'"
            ],
            "application/vnd.google.colaboratory.intrinsic+json": {
              "type": "string"
            }
          },
          "metadata": {},
          "execution_count": 20
        }
      ],
      "source": [
        "\"\"\"\n",
        "0   satisfaction_level     11991 non-null  float64   ----- DND --- +ve allowed, -ve not allowed, decimal allowed\n",
        "1   last_evaluation        11991 non-null  float64   ----- DND --- +ve allowed (0-1), -ve not allowed, decimal allowed\n",
        "\"\"\""
      ]
    },
    {
      "cell_type": "raw",
      "id": "3f08528e-a8c9-4f98-9ec9-4e3552dfa569",
      "metadata": {
        "id": "3f08528e-a8c9-4f98-9ec9-4e3552dfa569"
      },
      "source": [
        "If dealing with DND, check w.r.t. domain whether the following parameter is achieved:\n",
        "1. Positive Numers are allowed or not\n",
        "2. Negative Numbers allowed or not\n",
        "3. Decimals are allowed or just Integers Expected\n",
        "4. Check whether the number falls in a specified range as defined by DOMAIN\n",
        "If any of the above is not allowed, DELETE THAT COLUMN ENTRY"
      ]
    },
    {
      "cell_type": "code",
      "execution_count": 21,
      "id": "48bc4423-2897-451b-b740-efbb62150650",
      "metadata": {
        "id": "48bc4423-2897-451b-b740-efbb62150650",
        "outputId": "35248bd7-91ae-420d-843e-e585ec513244",
        "colab": {
          "base_uri": "https://localhost:8080/",
          "height": 73
        }
      },
      "outputs": [
        {
          "output_type": "execute_result",
          "data": {
            "text/plain": [
              "Empty DataFrame\n",
              "Columns: [satisfaction_level, last_evaluation, number_project, average_montly_hours, time_spend_company, Work_accident, left, promotion_last_5years, Department, salary]\n",
              "Index: []"
            ],
            "text/html": [
              "\n",
              "  <div id=\"df-69466178-238a-4b17-bf8e-1adb16fe2a1d\" class=\"colab-df-container\">\n",
              "    <div>\n",
              "<style scoped>\n",
              "    .dataframe tbody tr th:only-of-type {\n",
              "        vertical-align: middle;\n",
              "    }\n",
              "\n",
              "    .dataframe tbody tr th {\n",
              "        vertical-align: top;\n",
              "    }\n",
              "\n",
              "    .dataframe thead th {\n",
              "        text-align: right;\n",
              "    }\n",
              "</style>\n",
              "<table border=\"1\" class=\"dataframe\">\n",
              "  <thead>\n",
              "    <tr style=\"text-align: right;\">\n",
              "      <th></th>\n",
              "      <th>satisfaction_level</th>\n",
              "      <th>last_evaluation</th>\n",
              "      <th>number_project</th>\n",
              "      <th>average_montly_hours</th>\n",
              "      <th>time_spend_company</th>\n",
              "      <th>Work_accident</th>\n",
              "      <th>left</th>\n",
              "      <th>promotion_last_5years</th>\n",
              "      <th>Department</th>\n",
              "      <th>salary</th>\n",
              "    </tr>\n",
              "  </thead>\n",
              "  <tbody>\n",
              "  </tbody>\n",
              "</table>\n",
              "</div>\n",
              "    <div class=\"colab-df-buttons\">\n",
              "\n",
              "  <div class=\"colab-df-container\">\n",
              "    <button class=\"colab-df-convert\" onclick=\"convertToInteractive('df-69466178-238a-4b17-bf8e-1adb16fe2a1d')\"\n",
              "            title=\"Convert this dataframe to an interactive table.\"\n",
              "            style=\"display:none;\">\n",
              "\n",
              "  <svg xmlns=\"http://www.w3.org/2000/svg\" height=\"24px\" viewBox=\"0 -960 960 960\">\n",
              "    <path d=\"M120-120v-720h720v720H120Zm60-500h600v-160H180v160Zm220 220h160v-160H400v160Zm0 220h160v-160H400v160ZM180-400h160v-160H180v160Zm440 0h160v-160H620v160ZM180-180h160v-160H180v160Zm440 0h160v-160H620v160Z\"/>\n",
              "  </svg>\n",
              "    </button>\n",
              "\n",
              "  <style>\n",
              "    .colab-df-container {\n",
              "      display:flex;\n",
              "      gap: 12px;\n",
              "    }\n",
              "\n",
              "    .colab-df-convert {\n",
              "      background-color: #E8F0FE;\n",
              "      border: none;\n",
              "      border-radius: 50%;\n",
              "      cursor: pointer;\n",
              "      display: none;\n",
              "      fill: #1967D2;\n",
              "      height: 32px;\n",
              "      padding: 0 0 0 0;\n",
              "      width: 32px;\n",
              "    }\n",
              "\n",
              "    .colab-df-convert:hover {\n",
              "      background-color: #E2EBFA;\n",
              "      box-shadow: 0px 1px 2px rgba(60, 64, 67, 0.3), 0px 1px 3px 1px rgba(60, 64, 67, 0.15);\n",
              "      fill: #174EA6;\n",
              "    }\n",
              "\n",
              "    .colab-df-buttons div {\n",
              "      margin-bottom: 4px;\n",
              "    }\n",
              "\n",
              "    [theme=dark] .colab-df-convert {\n",
              "      background-color: #3B4455;\n",
              "      fill: #D2E3FC;\n",
              "    }\n",
              "\n",
              "    [theme=dark] .colab-df-convert:hover {\n",
              "      background-color: #434B5C;\n",
              "      box-shadow: 0px 1px 3px 1px rgba(0, 0, 0, 0.15);\n",
              "      filter: drop-shadow(0px 1px 2px rgba(0, 0, 0, 0.3));\n",
              "      fill: #FFFFFF;\n",
              "    }\n",
              "  </style>\n",
              "\n",
              "    <script>\n",
              "      const buttonEl =\n",
              "        document.querySelector('#df-69466178-238a-4b17-bf8e-1adb16fe2a1d button.colab-df-convert');\n",
              "      buttonEl.style.display =\n",
              "        google.colab.kernel.accessAllowed ? 'block' : 'none';\n",
              "\n",
              "      async function convertToInteractive(key) {\n",
              "        const element = document.querySelector('#df-69466178-238a-4b17-bf8e-1adb16fe2a1d');\n",
              "        const dataTable =\n",
              "          await google.colab.kernel.invokeFunction('convertToInteractive',\n",
              "                                                    [key], {});\n",
              "        if (!dataTable) return;\n",
              "\n",
              "        const docLinkHtml = 'Like what you see? Visit the ' +\n",
              "          '<a target=\"_blank\" href=https://colab.research.google.com/notebooks/data_table.ipynb>data table notebook</a>'\n",
              "          + ' to learn more about interactive tables.';\n",
              "        element.innerHTML = '';\n",
              "        dataTable['output_type'] = 'display_data';\n",
              "        await google.colab.output.renderOutput(dataTable, element);\n",
              "        const docLink = document.createElement('div');\n",
              "        docLink.innerHTML = docLinkHtml;\n",
              "        element.appendChild(docLink);\n",
              "      }\n",
              "    </script>\n",
              "  </div>\n",
              "\n",
              "\n",
              "    </div>\n",
              "  </div>\n"
            ],
            "application/vnd.google.colaboratory.intrinsic+json": {
              "type": "dataframe",
              "repr_error": "Out of range float values are not JSON compliant: nan"
            }
          },
          "metadata": {},
          "execution_count": 21
        }
      ],
      "source": [
        "data.loc[(data.satisfaction_level < 0) | (data.satisfaction_level > 1)]"
      ]
    },
    {
      "cell_type": "code",
      "execution_count": 22,
      "id": "dd51740d-649f-4de8-8aeb-32e84565d1c0",
      "metadata": {
        "id": "dd51740d-649f-4de8-8aeb-32e84565d1c0",
        "outputId": "76558ad3-5e64-4ed2-ba53-e776008007bb",
        "colab": {
          "base_uri": "https://localhost:8080/",
          "height": 73
        }
      },
      "outputs": [
        {
          "output_type": "execute_result",
          "data": {
            "text/plain": [
              "Empty DataFrame\n",
              "Columns: [satisfaction_level, last_evaluation, number_project, average_montly_hours, time_spend_company, Work_accident, left, promotion_last_5years, Department, salary]\n",
              "Index: []"
            ],
            "text/html": [
              "\n",
              "  <div id=\"df-555cdd56-9157-4eea-b300-8600c440d119\" class=\"colab-df-container\">\n",
              "    <div>\n",
              "<style scoped>\n",
              "    .dataframe tbody tr th:only-of-type {\n",
              "        vertical-align: middle;\n",
              "    }\n",
              "\n",
              "    .dataframe tbody tr th {\n",
              "        vertical-align: top;\n",
              "    }\n",
              "\n",
              "    .dataframe thead th {\n",
              "        text-align: right;\n",
              "    }\n",
              "</style>\n",
              "<table border=\"1\" class=\"dataframe\">\n",
              "  <thead>\n",
              "    <tr style=\"text-align: right;\">\n",
              "      <th></th>\n",
              "      <th>satisfaction_level</th>\n",
              "      <th>last_evaluation</th>\n",
              "      <th>number_project</th>\n",
              "      <th>average_montly_hours</th>\n",
              "      <th>time_spend_company</th>\n",
              "      <th>Work_accident</th>\n",
              "      <th>left</th>\n",
              "      <th>promotion_last_5years</th>\n",
              "      <th>Department</th>\n",
              "      <th>salary</th>\n",
              "    </tr>\n",
              "  </thead>\n",
              "  <tbody>\n",
              "  </tbody>\n",
              "</table>\n",
              "</div>\n",
              "    <div class=\"colab-df-buttons\">\n",
              "\n",
              "  <div class=\"colab-df-container\">\n",
              "    <button class=\"colab-df-convert\" onclick=\"convertToInteractive('df-555cdd56-9157-4eea-b300-8600c440d119')\"\n",
              "            title=\"Convert this dataframe to an interactive table.\"\n",
              "            style=\"display:none;\">\n",
              "\n",
              "  <svg xmlns=\"http://www.w3.org/2000/svg\" height=\"24px\" viewBox=\"0 -960 960 960\">\n",
              "    <path d=\"M120-120v-720h720v720H120Zm60-500h600v-160H180v160Zm220 220h160v-160H400v160Zm0 220h160v-160H400v160ZM180-400h160v-160H180v160Zm440 0h160v-160H620v160ZM180-180h160v-160H180v160Zm440 0h160v-160H620v160Z\"/>\n",
              "  </svg>\n",
              "    </button>\n",
              "\n",
              "  <style>\n",
              "    .colab-df-container {\n",
              "      display:flex;\n",
              "      gap: 12px;\n",
              "    }\n",
              "\n",
              "    .colab-df-convert {\n",
              "      background-color: #E8F0FE;\n",
              "      border: none;\n",
              "      border-radius: 50%;\n",
              "      cursor: pointer;\n",
              "      display: none;\n",
              "      fill: #1967D2;\n",
              "      height: 32px;\n",
              "      padding: 0 0 0 0;\n",
              "      width: 32px;\n",
              "    }\n",
              "\n",
              "    .colab-df-convert:hover {\n",
              "      background-color: #E2EBFA;\n",
              "      box-shadow: 0px 1px 2px rgba(60, 64, 67, 0.3), 0px 1px 3px 1px rgba(60, 64, 67, 0.15);\n",
              "      fill: #174EA6;\n",
              "    }\n",
              "\n",
              "    .colab-df-buttons div {\n",
              "      margin-bottom: 4px;\n",
              "    }\n",
              "\n",
              "    [theme=dark] .colab-df-convert {\n",
              "      background-color: #3B4455;\n",
              "      fill: #D2E3FC;\n",
              "    }\n",
              "\n",
              "    [theme=dark] .colab-df-convert:hover {\n",
              "      background-color: #434B5C;\n",
              "      box-shadow: 0px 1px 3px 1px rgba(0, 0, 0, 0.15);\n",
              "      filter: drop-shadow(0px 1px 2px rgba(0, 0, 0, 0.3));\n",
              "      fill: #FFFFFF;\n",
              "    }\n",
              "  </style>\n",
              "\n",
              "    <script>\n",
              "      const buttonEl =\n",
              "        document.querySelector('#df-555cdd56-9157-4eea-b300-8600c440d119 button.colab-df-convert');\n",
              "      buttonEl.style.display =\n",
              "        google.colab.kernel.accessAllowed ? 'block' : 'none';\n",
              "\n",
              "      async function convertToInteractive(key) {\n",
              "        const element = document.querySelector('#df-555cdd56-9157-4eea-b300-8600c440d119');\n",
              "        const dataTable =\n",
              "          await google.colab.kernel.invokeFunction('convertToInteractive',\n",
              "                                                    [key], {});\n",
              "        if (!dataTable) return;\n",
              "\n",
              "        const docLinkHtml = 'Like what you see? Visit the ' +\n",
              "          '<a target=\"_blank\" href=https://colab.research.google.com/notebooks/data_table.ipynb>data table notebook</a>'\n",
              "          + ' to learn more about interactive tables.';\n",
              "        element.innerHTML = '';\n",
              "        dataTable['output_type'] = 'display_data';\n",
              "        await google.colab.output.renderOutput(dataTable, element);\n",
              "        const docLink = document.createElement('div');\n",
              "        docLink.innerHTML = docLinkHtml;\n",
              "        element.appendChild(docLink);\n",
              "      }\n",
              "    </script>\n",
              "  </div>\n",
              "\n",
              "\n",
              "    </div>\n",
              "  </div>\n"
            ],
            "application/vnd.google.colaboratory.intrinsic+json": {
              "type": "dataframe",
              "repr_error": "Out of range float values are not JSON compliant: nan"
            }
          },
          "metadata": {},
          "execution_count": 22
        }
      ],
      "source": [
        "data.loc[(data.last_evaluation < 0) | (data.last_evaluation > 1)]"
      ]
    },
    {
      "cell_type": "markdown",
      "id": "4da4a7da-55e4-4b0e-8f94-c4f37daa7f5f",
      "metadata": {
        "id": "4da4a7da-55e4-4b0e-8f94-c4f37daa7f5f"
      },
      "source": [
        "CND"
      ]
    },
    {
      "cell_type": "raw",
      "id": "61a50d3c-571b-4304-8016-88d9041d7e15",
      "metadata": {
        "id": "61a50d3c-571b-4304-8016-88d9041d7e15"
      },
      "source": [
        "If dealing with CND, check w.r.t. domain whether the following parameter is achieved:\n",
        "                  1. Positive Numers are allowed or not\n",
        "                  2. Negative Numbers allowed or not\n",
        "                  3. Decimals are allowed or just Integers Expected\n",
        "\n",
        " If any of the above is not allowed, DELETE THAT COLUMN ENTRY"
      ]
    },
    {
      "cell_type": "code",
      "execution_count": 23,
      "id": "34260c49-e6bc-499a-a710-5418172f9508",
      "metadata": {
        "id": "34260c49-e6bc-499a-a710-5418172f9508",
        "outputId": "d89fa6d4-7888-4704-c462-913e71c0e2e0",
        "colab": {
          "base_uri": "https://localhost:8080/",
          "height": 70
        }
      },
      "outputs": [
        {
          "output_type": "execute_result",
          "data": {
            "text/plain": [
              "'\\n 2   number_project         11991 non-null  int64     ----- CND --- +ve allowed, -ve not allowed, integer expected\\n 3   average_montly_hours   11991 non-null  int64     ----- CND --- +ve allowed, -ve not allowed, integer expected\\n 4   time_spend_company     11991 non-null  int64     ----- CND --- +ve allowed, -ve not allowed, integer expected\\n'"
            ],
            "application/vnd.google.colaboratory.intrinsic+json": {
              "type": "string"
            }
          },
          "metadata": {},
          "execution_count": 23
        }
      ],
      "source": [
        "\"\"\"\n",
        " 2   number_project         11991 non-null  int64     ----- CND --- +ve allowed, -ve not allowed, integer expected\n",
        " 3   average_montly_hours   11991 non-null  int64     ----- CND --- +ve allowed, -ve not allowed, integer expected\n",
        " 4   time_spend_company     11991 non-null  int64     ----- CND --- +ve allowed, -ve not allowed, integer expected\n",
        "\"\"\""
      ]
    },
    {
      "cell_type": "code",
      "execution_count": 24,
      "id": "30c5a81b-99a3-4949-a028-5ad58dd6cb1b",
      "metadata": {
        "id": "30c5a81b-99a3-4949-a028-5ad58dd6cb1b",
        "outputId": "90e89893-2afc-4054-f1a1-1cd74278f6c7",
        "colab": {
          "base_uri": "https://localhost:8080/",
          "height": 73
        }
      },
      "outputs": [
        {
          "output_type": "execute_result",
          "data": {
            "text/plain": [
              "Empty DataFrame\n",
              "Columns: [satisfaction_level, last_evaluation, number_project, average_montly_hours, time_spend_company, Work_accident, left, promotion_last_5years, Department, salary]\n",
              "Index: []"
            ],
            "text/html": [
              "\n",
              "  <div id=\"df-6e025568-5650-4463-9b86-dd8478f6517d\" class=\"colab-df-container\">\n",
              "    <div>\n",
              "<style scoped>\n",
              "    .dataframe tbody tr th:only-of-type {\n",
              "        vertical-align: middle;\n",
              "    }\n",
              "\n",
              "    .dataframe tbody tr th {\n",
              "        vertical-align: top;\n",
              "    }\n",
              "\n",
              "    .dataframe thead th {\n",
              "        text-align: right;\n",
              "    }\n",
              "</style>\n",
              "<table border=\"1\" class=\"dataframe\">\n",
              "  <thead>\n",
              "    <tr style=\"text-align: right;\">\n",
              "      <th></th>\n",
              "      <th>satisfaction_level</th>\n",
              "      <th>last_evaluation</th>\n",
              "      <th>number_project</th>\n",
              "      <th>average_montly_hours</th>\n",
              "      <th>time_spend_company</th>\n",
              "      <th>Work_accident</th>\n",
              "      <th>left</th>\n",
              "      <th>promotion_last_5years</th>\n",
              "      <th>Department</th>\n",
              "      <th>salary</th>\n",
              "    </tr>\n",
              "  </thead>\n",
              "  <tbody>\n",
              "  </tbody>\n",
              "</table>\n",
              "</div>\n",
              "    <div class=\"colab-df-buttons\">\n",
              "\n",
              "  <div class=\"colab-df-container\">\n",
              "    <button class=\"colab-df-convert\" onclick=\"convertToInteractive('df-6e025568-5650-4463-9b86-dd8478f6517d')\"\n",
              "            title=\"Convert this dataframe to an interactive table.\"\n",
              "            style=\"display:none;\">\n",
              "\n",
              "  <svg xmlns=\"http://www.w3.org/2000/svg\" height=\"24px\" viewBox=\"0 -960 960 960\">\n",
              "    <path d=\"M120-120v-720h720v720H120Zm60-500h600v-160H180v160Zm220 220h160v-160H400v160Zm0 220h160v-160H400v160ZM180-400h160v-160H180v160Zm440 0h160v-160H620v160ZM180-180h160v-160H180v160Zm440 0h160v-160H620v160Z\"/>\n",
              "  </svg>\n",
              "    </button>\n",
              "\n",
              "  <style>\n",
              "    .colab-df-container {\n",
              "      display:flex;\n",
              "      gap: 12px;\n",
              "    }\n",
              "\n",
              "    .colab-df-convert {\n",
              "      background-color: #E8F0FE;\n",
              "      border: none;\n",
              "      border-radius: 50%;\n",
              "      cursor: pointer;\n",
              "      display: none;\n",
              "      fill: #1967D2;\n",
              "      height: 32px;\n",
              "      padding: 0 0 0 0;\n",
              "      width: 32px;\n",
              "    }\n",
              "\n",
              "    .colab-df-convert:hover {\n",
              "      background-color: #E2EBFA;\n",
              "      box-shadow: 0px 1px 2px rgba(60, 64, 67, 0.3), 0px 1px 3px 1px rgba(60, 64, 67, 0.15);\n",
              "      fill: #174EA6;\n",
              "    }\n",
              "\n",
              "    .colab-df-buttons div {\n",
              "      margin-bottom: 4px;\n",
              "    }\n",
              "\n",
              "    [theme=dark] .colab-df-convert {\n",
              "      background-color: #3B4455;\n",
              "      fill: #D2E3FC;\n",
              "    }\n",
              "\n",
              "    [theme=dark] .colab-df-convert:hover {\n",
              "      background-color: #434B5C;\n",
              "      box-shadow: 0px 1px 3px 1px rgba(0, 0, 0, 0.15);\n",
              "      filter: drop-shadow(0px 1px 2px rgba(0, 0, 0, 0.3));\n",
              "      fill: #FFFFFF;\n",
              "    }\n",
              "  </style>\n",
              "\n",
              "    <script>\n",
              "      const buttonEl =\n",
              "        document.querySelector('#df-6e025568-5650-4463-9b86-dd8478f6517d button.colab-df-convert');\n",
              "      buttonEl.style.display =\n",
              "        google.colab.kernel.accessAllowed ? 'block' : 'none';\n",
              "\n",
              "      async function convertToInteractive(key) {\n",
              "        const element = document.querySelector('#df-6e025568-5650-4463-9b86-dd8478f6517d');\n",
              "        const dataTable =\n",
              "          await google.colab.kernel.invokeFunction('convertToInteractive',\n",
              "                                                    [key], {});\n",
              "        if (!dataTable) return;\n",
              "\n",
              "        const docLinkHtml = 'Like what you see? Visit the ' +\n",
              "          '<a target=\"_blank\" href=https://colab.research.google.com/notebooks/data_table.ipynb>data table notebook</a>'\n",
              "          + ' to learn more about interactive tables.';\n",
              "        element.innerHTML = '';\n",
              "        dataTable['output_type'] = 'display_data';\n",
              "        await google.colab.output.renderOutput(dataTable, element);\n",
              "        const docLink = document.createElement('div');\n",
              "        docLink.innerHTML = docLinkHtml;\n",
              "        element.appendChild(docLink);\n",
              "      }\n",
              "    </script>\n",
              "  </div>\n",
              "\n",
              "\n",
              "    </div>\n",
              "  </div>\n"
            ],
            "application/vnd.google.colaboratory.intrinsic+json": {
              "type": "dataframe",
              "repr_error": "Out of range float values are not JSON compliant: nan"
            }
          },
          "metadata": {},
          "execution_count": 24
        }
      ],
      "source": [
        "data.loc[(data.number_project < 0)]"
      ]
    },
    {
      "cell_type": "code",
      "execution_count": 25,
      "id": "a591e26c-fb1f-4dfc-b912-1de727e0255d",
      "metadata": {
        "id": "a591e26c-fb1f-4dfc-b912-1de727e0255d",
        "outputId": "871a4fa5-a85c-4558-e638-799d9f519f0b",
        "colab": {
          "base_uri": "https://localhost:8080/",
          "height": 73
        }
      },
      "outputs": [
        {
          "output_type": "execute_result",
          "data": {
            "text/plain": [
              "Empty DataFrame\n",
              "Columns: [satisfaction_level, last_evaluation, number_project, average_montly_hours, time_spend_company, Work_accident, left, promotion_last_5years, Department, salary]\n",
              "Index: []"
            ],
            "text/html": [
              "\n",
              "  <div id=\"df-6b9cb1bf-e74a-4ea0-a150-251f71f382e7\" class=\"colab-df-container\">\n",
              "    <div>\n",
              "<style scoped>\n",
              "    .dataframe tbody tr th:only-of-type {\n",
              "        vertical-align: middle;\n",
              "    }\n",
              "\n",
              "    .dataframe tbody tr th {\n",
              "        vertical-align: top;\n",
              "    }\n",
              "\n",
              "    .dataframe thead th {\n",
              "        text-align: right;\n",
              "    }\n",
              "</style>\n",
              "<table border=\"1\" class=\"dataframe\">\n",
              "  <thead>\n",
              "    <tr style=\"text-align: right;\">\n",
              "      <th></th>\n",
              "      <th>satisfaction_level</th>\n",
              "      <th>last_evaluation</th>\n",
              "      <th>number_project</th>\n",
              "      <th>average_montly_hours</th>\n",
              "      <th>time_spend_company</th>\n",
              "      <th>Work_accident</th>\n",
              "      <th>left</th>\n",
              "      <th>promotion_last_5years</th>\n",
              "      <th>Department</th>\n",
              "      <th>salary</th>\n",
              "    </tr>\n",
              "  </thead>\n",
              "  <tbody>\n",
              "  </tbody>\n",
              "</table>\n",
              "</div>\n",
              "    <div class=\"colab-df-buttons\">\n",
              "\n",
              "  <div class=\"colab-df-container\">\n",
              "    <button class=\"colab-df-convert\" onclick=\"convertToInteractive('df-6b9cb1bf-e74a-4ea0-a150-251f71f382e7')\"\n",
              "            title=\"Convert this dataframe to an interactive table.\"\n",
              "            style=\"display:none;\">\n",
              "\n",
              "  <svg xmlns=\"http://www.w3.org/2000/svg\" height=\"24px\" viewBox=\"0 -960 960 960\">\n",
              "    <path d=\"M120-120v-720h720v720H120Zm60-500h600v-160H180v160Zm220 220h160v-160H400v160Zm0 220h160v-160H400v160ZM180-400h160v-160H180v160Zm440 0h160v-160H620v160ZM180-180h160v-160H180v160Zm440 0h160v-160H620v160Z\"/>\n",
              "  </svg>\n",
              "    </button>\n",
              "\n",
              "  <style>\n",
              "    .colab-df-container {\n",
              "      display:flex;\n",
              "      gap: 12px;\n",
              "    }\n",
              "\n",
              "    .colab-df-convert {\n",
              "      background-color: #E8F0FE;\n",
              "      border: none;\n",
              "      border-radius: 50%;\n",
              "      cursor: pointer;\n",
              "      display: none;\n",
              "      fill: #1967D2;\n",
              "      height: 32px;\n",
              "      padding: 0 0 0 0;\n",
              "      width: 32px;\n",
              "    }\n",
              "\n",
              "    .colab-df-convert:hover {\n",
              "      background-color: #E2EBFA;\n",
              "      box-shadow: 0px 1px 2px rgba(60, 64, 67, 0.3), 0px 1px 3px 1px rgba(60, 64, 67, 0.15);\n",
              "      fill: #174EA6;\n",
              "    }\n",
              "\n",
              "    .colab-df-buttons div {\n",
              "      margin-bottom: 4px;\n",
              "    }\n",
              "\n",
              "    [theme=dark] .colab-df-convert {\n",
              "      background-color: #3B4455;\n",
              "      fill: #D2E3FC;\n",
              "    }\n",
              "\n",
              "    [theme=dark] .colab-df-convert:hover {\n",
              "      background-color: #434B5C;\n",
              "      box-shadow: 0px 1px 3px 1px rgba(0, 0, 0, 0.15);\n",
              "      filter: drop-shadow(0px 1px 2px rgba(0, 0, 0, 0.3));\n",
              "      fill: #FFFFFF;\n",
              "    }\n",
              "  </style>\n",
              "\n",
              "    <script>\n",
              "      const buttonEl =\n",
              "        document.querySelector('#df-6b9cb1bf-e74a-4ea0-a150-251f71f382e7 button.colab-df-convert');\n",
              "      buttonEl.style.display =\n",
              "        google.colab.kernel.accessAllowed ? 'block' : 'none';\n",
              "\n",
              "      async function convertToInteractive(key) {\n",
              "        const element = document.querySelector('#df-6b9cb1bf-e74a-4ea0-a150-251f71f382e7');\n",
              "        const dataTable =\n",
              "          await google.colab.kernel.invokeFunction('convertToInteractive',\n",
              "                                                    [key], {});\n",
              "        if (!dataTable) return;\n",
              "\n",
              "        const docLinkHtml = 'Like what you see? Visit the ' +\n",
              "          '<a target=\"_blank\" href=https://colab.research.google.com/notebooks/data_table.ipynb>data table notebook</a>'\n",
              "          + ' to learn more about interactive tables.';\n",
              "        element.innerHTML = '';\n",
              "        dataTable['output_type'] = 'display_data';\n",
              "        await google.colab.output.renderOutput(dataTable, element);\n",
              "        const docLink = document.createElement('div');\n",
              "        docLink.innerHTML = docLinkHtml;\n",
              "        element.appendChild(docLink);\n",
              "      }\n",
              "    </script>\n",
              "  </div>\n",
              "\n",
              "\n",
              "    </div>\n",
              "  </div>\n"
            ],
            "application/vnd.google.colaboratory.intrinsic+json": {
              "type": "dataframe",
              "repr_error": "Out of range float values are not JSON compliant: nan"
            }
          },
          "metadata": {},
          "execution_count": 25
        }
      ],
      "source": [
        "data.loc[(data.average_montly_hours < 0)]"
      ]
    },
    {
      "cell_type": "code",
      "execution_count": 26,
      "id": "6fe604c3-5780-40f3-a3e2-f2dce8b6b956",
      "metadata": {
        "id": "6fe604c3-5780-40f3-a3e2-f2dce8b6b956",
        "outputId": "733aee4c-c8e6-4cc8-e2ea-deab11997767",
        "colab": {
          "base_uri": "https://localhost:8080/",
          "height": 73
        }
      },
      "outputs": [
        {
          "output_type": "execute_result",
          "data": {
            "text/plain": [
              "Empty DataFrame\n",
              "Columns: [satisfaction_level, last_evaluation, number_project, average_montly_hours, time_spend_company, Work_accident, left, promotion_last_5years, Department, salary]\n",
              "Index: []"
            ],
            "text/html": [
              "\n",
              "  <div id=\"df-6fd4dbcc-6edb-41cf-820f-299bfcfc46c1\" class=\"colab-df-container\">\n",
              "    <div>\n",
              "<style scoped>\n",
              "    .dataframe tbody tr th:only-of-type {\n",
              "        vertical-align: middle;\n",
              "    }\n",
              "\n",
              "    .dataframe tbody tr th {\n",
              "        vertical-align: top;\n",
              "    }\n",
              "\n",
              "    .dataframe thead th {\n",
              "        text-align: right;\n",
              "    }\n",
              "</style>\n",
              "<table border=\"1\" class=\"dataframe\">\n",
              "  <thead>\n",
              "    <tr style=\"text-align: right;\">\n",
              "      <th></th>\n",
              "      <th>satisfaction_level</th>\n",
              "      <th>last_evaluation</th>\n",
              "      <th>number_project</th>\n",
              "      <th>average_montly_hours</th>\n",
              "      <th>time_spend_company</th>\n",
              "      <th>Work_accident</th>\n",
              "      <th>left</th>\n",
              "      <th>promotion_last_5years</th>\n",
              "      <th>Department</th>\n",
              "      <th>salary</th>\n",
              "    </tr>\n",
              "  </thead>\n",
              "  <tbody>\n",
              "  </tbody>\n",
              "</table>\n",
              "</div>\n",
              "    <div class=\"colab-df-buttons\">\n",
              "\n",
              "  <div class=\"colab-df-container\">\n",
              "    <button class=\"colab-df-convert\" onclick=\"convertToInteractive('df-6fd4dbcc-6edb-41cf-820f-299bfcfc46c1')\"\n",
              "            title=\"Convert this dataframe to an interactive table.\"\n",
              "            style=\"display:none;\">\n",
              "\n",
              "  <svg xmlns=\"http://www.w3.org/2000/svg\" height=\"24px\" viewBox=\"0 -960 960 960\">\n",
              "    <path d=\"M120-120v-720h720v720H120Zm60-500h600v-160H180v160Zm220 220h160v-160H400v160Zm0 220h160v-160H400v160ZM180-400h160v-160H180v160Zm440 0h160v-160H620v160ZM180-180h160v-160H180v160Zm440 0h160v-160H620v160Z\"/>\n",
              "  </svg>\n",
              "    </button>\n",
              "\n",
              "  <style>\n",
              "    .colab-df-container {\n",
              "      display:flex;\n",
              "      gap: 12px;\n",
              "    }\n",
              "\n",
              "    .colab-df-convert {\n",
              "      background-color: #E8F0FE;\n",
              "      border: none;\n",
              "      border-radius: 50%;\n",
              "      cursor: pointer;\n",
              "      display: none;\n",
              "      fill: #1967D2;\n",
              "      height: 32px;\n",
              "      padding: 0 0 0 0;\n",
              "      width: 32px;\n",
              "    }\n",
              "\n",
              "    .colab-df-convert:hover {\n",
              "      background-color: #E2EBFA;\n",
              "      box-shadow: 0px 1px 2px rgba(60, 64, 67, 0.3), 0px 1px 3px 1px rgba(60, 64, 67, 0.15);\n",
              "      fill: #174EA6;\n",
              "    }\n",
              "\n",
              "    .colab-df-buttons div {\n",
              "      margin-bottom: 4px;\n",
              "    }\n",
              "\n",
              "    [theme=dark] .colab-df-convert {\n",
              "      background-color: #3B4455;\n",
              "      fill: #D2E3FC;\n",
              "    }\n",
              "\n",
              "    [theme=dark] .colab-df-convert:hover {\n",
              "      background-color: #434B5C;\n",
              "      box-shadow: 0px 1px 3px 1px rgba(0, 0, 0, 0.15);\n",
              "      filter: drop-shadow(0px 1px 2px rgba(0, 0, 0, 0.3));\n",
              "      fill: #FFFFFF;\n",
              "    }\n",
              "  </style>\n",
              "\n",
              "    <script>\n",
              "      const buttonEl =\n",
              "        document.querySelector('#df-6fd4dbcc-6edb-41cf-820f-299bfcfc46c1 button.colab-df-convert');\n",
              "      buttonEl.style.display =\n",
              "        google.colab.kernel.accessAllowed ? 'block' : 'none';\n",
              "\n",
              "      async function convertToInteractive(key) {\n",
              "        const element = document.querySelector('#df-6fd4dbcc-6edb-41cf-820f-299bfcfc46c1');\n",
              "        const dataTable =\n",
              "          await google.colab.kernel.invokeFunction('convertToInteractive',\n",
              "                                                    [key], {});\n",
              "        if (!dataTable) return;\n",
              "\n",
              "        const docLinkHtml = 'Like what you see? Visit the ' +\n",
              "          '<a target=\"_blank\" href=https://colab.research.google.com/notebooks/data_table.ipynb>data table notebook</a>'\n",
              "          + ' to learn more about interactive tables.';\n",
              "        element.innerHTML = '';\n",
              "        dataTable['output_type'] = 'display_data';\n",
              "        await google.colab.output.renderOutput(dataTable, element);\n",
              "        const docLink = document.createElement('div');\n",
              "        docLink.innerHTML = docLinkHtml;\n",
              "        element.appendChild(docLink);\n",
              "      }\n",
              "    </script>\n",
              "  </div>\n",
              "\n",
              "\n",
              "    </div>\n",
              "  </div>\n"
            ],
            "application/vnd.google.colaboratory.intrinsic+json": {
              "type": "dataframe",
              "repr_error": "Out of range float values are not JSON compliant: nan"
            }
          },
          "metadata": {},
          "execution_count": 26
        }
      ],
      "source": [
        "data.loc[(data.time_spend_company < 0)]"
      ]
    },
    {
      "cell_type": "markdown",
      "id": "4cf3ab27-07de-41d8-a18c-6c1071648f10",
      "metadata": {
        "id": "4cf3ab27-07de-41d8-a18c-6c1071648f10"
      },
      "source": [
        "CATEGORICAL"
      ]
    },
    {
      "cell_type": "raw",
      "id": "4f4d9af9-b265-4630-ba13-afc8a759ddea",
      "metadata": {
        "id": "4f4d9af9-b265-4630-ba13-afc8a759ddea"
      },
      "source": [
        "If the columns are categorical columns, perform the following\n",
        "         a. Get the unique values of the column\n",
        "         b. Handle the data that has SPELLING ERRORS, CASE ERRORS. Ensure case is UNIFIED !\n",
        "         c. Check whether the groups/categorices shown in unique values match the domain spec.\n",
        "\n",
        "If any unusual category found, delete that SPECIFIC RECORD\n"
      ]
    },
    {
      "cell_type": "code",
      "execution_count": 27,
      "id": "f3879477-6a8e-4922-b9c1-b116294b5832",
      "metadata": {
        "id": "f3879477-6a8e-4922-b9c1-b116294b5832",
        "outputId": "c1d7d91f-0b81-4d3b-9233-c4497bdfbbb6",
        "colab": {
          "base_uri": "https://localhost:8080/",
          "height": 70
        }
      },
      "outputs": [
        {
          "output_type": "execute_result",
          "data": {
            "text/plain": [
              "'\\n 5   Work_accident          11991 non-null  int64     ----- Categorical\\n 6   left                   11991 non-null  int64     ----- Categorical\\n 7   promotion_last_5years  11991 non-null  int64     ----- Categorical\\n 8   Department             11991 non-null  object    ----- Categorical\\n '"
            ],
            "application/vnd.google.colaboratory.intrinsic+json": {
              "type": "string"
            }
          },
          "metadata": {},
          "execution_count": 27
        }
      ],
      "source": [
        "\"\"\"\n",
        " 5   Work_accident          11991 non-null  int64     ----- Categorical\n",
        " 6   left                   11991 non-null  int64     ----- Categorical\n",
        " 7   promotion_last_5years  11991 non-null  int64     ----- Categorical\n",
        " 8   Department             11991 non-null  object    ----- Categorical\n",
        " \"\"\""
      ]
    },
    {
      "cell_type": "code",
      "execution_count": 28,
      "id": "c9b2db3f-b24c-47f2-884e-457055cf7ab3",
      "metadata": {
        "id": "c9b2db3f-b24c-47f2-884e-457055cf7ab3",
        "outputId": "5fe0a178-3526-46ad-acc9-aeed23969adb",
        "colab": {
          "base_uri": "https://localhost:8080/"
        }
      },
      "outputs": [
        {
          "output_type": "execute_result",
          "data": {
            "text/plain": [
              "(array([0, 1]),\n",
              " array([1, 0]),\n",
              " array(['sales', 'accounting', 'hr', 'technical', 'support', 'management',\n",
              "        'IT', 'product_mng', 'marketing', 'RandD'], dtype=object),\n",
              " array([0, 1]))"
            ]
          },
          "metadata": {},
          "execution_count": 28
        }
      ],
      "source": [
        "data.Work_accident.unique() , data.left.unique(), data.Department.unique(), data.promotion_last_5years.unique() ,"
      ]
    },
    {
      "cell_type": "markdown",
      "id": "4a3a2fe5-ceae-41eb-972c-5db9482ba0e9",
      "metadata": {
        "id": "4a3a2fe5-ceae-41eb-972c-5db9482ba0e9"
      },
      "source": [
        "ORDINAL"
      ]
    },
    {
      "cell_type": "code",
      "execution_count": 29,
      "id": "ca0d1bc8-93a3-4309-84ec-1374d630870f",
      "metadata": {
        "id": "ca0d1bc8-93a3-4309-84ec-1374d630870f"
      },
      "outputs": [],
      "source": [
        "# 9   salary                 11991 non-null  object    ----- Ordinal"
      ]
    },
    {
      "cell_type": "raw",
      "id": "c820d338-563d-488e-8999-0579367622d8",
      "metadata": {
        "id": "c820d338-563d-488e-8999-0579367622d8"
      },
      "source": [
        "If the columns are ordinal columns, perform the following\n",
        "        a. Get the unique values of the column\n",
        "        b. Handle the data that has SPELLING ERRORS, CASE ERRORS. Ensure case is UNIFIED !\n",
        "        c. Check whether the groups/categorices shown in unique values match the domain spec.\n",
        "        d. Check the rank of each unique col and ensure it matches the domain spec\n",
        "\n",
        "If any unusual category/rank found, delete that SPECIFIC RECORD"
      ]
    },
    {
      "cell_type": "code",
      "execution_count": 30,
      "id": "08d7766b-3226-4858-b62f-a27c6e826b0c",
      "metadata": {
        "id": "08d7766b-3226-4858-b62f-a27c6e826b0c",
        "outputId": "00068eed-f893-41a8-b11d-bfa74f5d3855",
        "colab": {
          "base_uri": "https://localhost:8080/"
        }
      },
      "outputs": [
        {
          "output_type": "execute_result",
          "data": {
            "text/plain": [
              "array(['low', 'medium', 'high'], dtype=object)"
            ]
          },
          "metadata": {},
          "execution_count": 30
        }
      ],
      "source": [
        "data.salary.unique()"
      ]
    },
    {
      "cell_type": "code",
      "source": [
        "# Encoding categorical columns\n",
        "numeric_columns = data.select_dtypes(include=['int64', 'float64']).columns\n",
        "categorical_columns = data.select_dtypes(include=['object']).columns\n",
        "\n",
        "print(\"Numeric Columns:\", numeric_columns)\n",
        "print(\"Categorical Columns:\", categorical_columns)\n",
        "\n",
        "dummy_Dep=pd.get_dummies(data.Department).astype(int)\n",
        "dummy_sal=pd.get_dummies(data.salary).astype(int)\n",
        "\n",
        "final=pd.concat((data.drop(columns=[\"Department\",\"salary\"]),dummy_Dep,dummy_sal),axis = 1)"
      ],
      "metadata": {
        "colab": {
          "base_uri": "https://localhost:8080/"
        },
        "id": "n8xlNhf48g8F",
        "outputId": "57846ef9-8cb4-4635-81ec-9fad9e6c86dd"
      },
      "id": "n8xlNhf48g8F",
      "execution_count": 31,
      "outputs": [
        {
          "output_type": "stream",
          "name": "stdout",
          "text": [
            "Numeric Columns: Index(['satisfaction_level', 'last_evaluation', 'number_project',\n",
            "       'average_montly_hours', 'time_spend_company', 'Work_accident', 'left',\n",
            "       'promotion_last_5years'],\n",
            "      dtype='object')\n",
            "Categorical Columns: Index(['Department', 'salary'], dtype='object')\n"
          ]
        }
      ]
    },
    {
      "cell_type": "code",
      "source": [
        "final.info()"
      ],
      "metadata": {
        "colab": {
          "base_uri": "https://localhost:8080/"
        },
        "id": "_JkVNi3_8nX-",
        "outputId": "994cb9df-6dc0-4a41-983b-d6a8ecd0b0ac"
      },
      "id": "_JkVNi3_8nX-",
      "execution_count": 32,
      "outputs": [
        {
          "output_type": "stream",
          "name": "stdout",
          "text": [
            "<class 'pandas.core.frame.DataFrame'>\n",
            "Index: 11991 entries, 0 to 11999\n",
            "Data columns (total 21 columns):\n",
            " #   Column                 Non-Null Count  Dtype  \n",
            "---  ------                 --------------  -----  \n",
            " 0   satisfaction_level     11991 non-null  float64\n",
            " 1   last_evaluation        11991 non-null  float64\n",
            " 2   number_project         11991 non-null  int64  \n",
            " 3   average_montly_hours   11991 non-null  int64  \n",
            " 4   time_spend_company     11991 non-null  int64  \n",
            " 5   Work_accident          11991 non-null  int64  \n",
            " 6   left                   11991 non-null  int64  \n",
            " 7   promotion_last_5years  11991 non-null  int64  \n",
            " 8   IT                     11991 non-null  int64  \n",
            " 9   RandD                  11991 non-null  int64  \n",
            " 10  accounting             11991 non-null  int64  \n",
            " 11  hr                     11991 non-null  int64  \n",
            " 12  management             11991 non-null  int64  \n",
            " 13  marketing              11991 non-null  int64  \n",
            " 14  product_mng            11991 non-null  int64  \n",
            " 15  sales                  11991 non-null  int64  \n",
            " 16  support                11991 non-null  int64  \n",
            " 17  technical              11991 non-null  int64  \n",
            " 18  high                   11991 non-null  int64  \n",
            " 19  low                    11991 non-null  int64  \n",
            " 20  medium                 11991 non-null  int64  \n",
            "dtypes: float64(2), int64(19)\n",
            "memory usage: 2.0 MB\n"
          ]
        }
      ]
    },
    {
      "cell_type": "markdown",
      "id": "09258eac-139b-4cee-8537-c9c715a3f6cf",
      "metadata": {
        "id": "09258eac-139b-4cee-8537-c9c715a3f6cf"
      },
      "source": [
        "# Train a machine learning model using an appropriate algorithm (e.g., Decision Trees, Random Forests, SVM, XGBoost, or a neural network).\n",
        "# Evaluate the model’s performance using relevant metrics (e.g., accuracy, RMSE, precision/recall, F1-score)."
      ]
    },
    {
      "cell_type": "code",
      "execution_count": 34,
      "id": "5502e531-7822-4e4e-9a18-14f1e5d51367",
      "metadata": {
        "id": "5502e531-7822-4e4e-9a18-14f1e5d51367"
      },
      "outputs": [],
      "source": [
        "# Seperate data as features and label\n",
        "label = final.iloc[:,6]\n",
        "features = final.drop(\"left\",axis = 1)"
      ]
    },
    {
      "cell_type": "code",
      "execution_count": 35,
      "id": "a5a0e16a-5982-426d-b6ed-a48235dfdcca",
      "metadata": {
        "id": "a5a0e16a-5982-426d-b6ed-a48235dfdcca"
      },
      "outputs": [],
      "source": [
        "# Splitting data into train and test in the ratio 80:20 with random_state=123.\n",
        "\n",
        "from sklearn.model_selection import train_test_split\n",
        "\n",
        "X_train,X_test,Y_train,Y_test = train_test_split(features,label,test_size = 0.2, random_state = 123)"
      ]
    },
    {
      "cell_type": "code",
      "execution_count": 36,
      "id": "abaa1f44-bc33-4c5a-af9e-d42a54576f6e",
      "metadata": {
        "id": "abaa1f44-bc33-4c5a-af9e-d42a54576f6e",
        "outputId": "9f3be246-ee9e-4936-cdcf-5911ddedc73e",
        "colab": {
          "base_uri": "https://localhost:8080/",
          "height": 178
        }
      },
      "outputs": [
        {
          "output_type": "execute_result",
          "data": {
            "text/plain": [
              "left\n",
              "0    7991\n",
              "1    1601\n",
              "Name: count, dtype: int64"
            ],
            "text/html": [
              "<div>\n",
              "<style scoped>\n",
              "    .dataframe tbody tr th:only-of-type {\n",
              "        vertical-align: middle;\n",
              "    }\n",
              "\n",
              "    .dataframe tbody tr th {\n",
              "        vertical-align: top;\n",
              "    }\n",
              "\n",
              "    .dataframe thead th {\n",
              "        text-align: right;\n",
              "    }\n",
              "</style>\n",
              "<table border=\"1\" class=\"dataframe\">\n",
              "  <thead>\n",
              "    <tr style=\"text-align: right;\">\n",
              "      <th></th>\n",
              "      <th>count</th>\n",
              "    </tr>\n",
              "    <tr>\n",
              "      <th>left</th>\n",
              "      <th></th>\n",
              "    </tr>\n",
              "  </thead>\n",
              "  <tbody>\n",
              "    <tr>\n",
              "      <th>0</th>\n",
              "      <td>7991</td>\n",
              "    </tr>\n",
              "    <tr>\n",
              "      <th>1</th>\n",
              "      <td>1601</td>\n",
              "    </tr>\n",
              "  </tbody>\n",
              "</table>\n",
              "</div><br><label><b>dtype:</b> int64</label>"
            ]
          },
          "metadata": {},
          "execution_count": 36
        }
      ],
      "source": [
        " # Upsample the train dataset using the SMOTE technique\n",
        "Y_train.value_counts()"
      ]
    },
    {
      "cell_type": "code",
      "execution_count": 37,
      "id": "d11ddc59-5d22-4836-b201-82167de2c02e",
      "metadata": {
        "id": "d11ddc59-5d22-4836-b201-82167de2c02e",
        "outputId": "d2630c7a-16e0-43dd-8f75-49047b28523e",
        "colab": {
          "base_uri": "https://localhost:8080/"
        }
      },
      "outputs": [
        {
          "output_type": "execute_result",
          "data": {
            "text/plain": [
              "((9592, 20), (9592,), (2399, 20), (2399,))"
            ]
          },
          "metadata": {},
          "execution_count": 37
        }
      ],
      "source": [
        "X_train.shape, Y_train.shape, X_test.shape, Y_test.shape"
      ]
    },
    {
      "cell_type": "code",
      "execution_count": 38,
      "id": "355c46d7-15f7-43bc-aa73-e4c3322de544",
      "metadata": {
        "id": "355c46d7-15f7-43bc-aa73-e4c3322de544"
      },
      "outputs": [],
      "source": [
        "# Highly unbalanced dataset\n",
        "# Apply SMOTE\n",
        "from imblearn.over_sampling import SMOTE"
      ]
    },
    {
      "cell_type": "code",
      "execution_count": 39,
      "id": "f5de0ee7-28fd-4275-ba1a-b1007a6875eb",
      "metadata": {
        "id": "f5de0ee7-28fd-4275-ba1a-b1007a6875eb"
      },
      "outputs": [],
      "source": [
        "smote = SMOTE(random_state = 123)\n",
        "X_train_resampled,Y_train_resampled = smote.fit_resample(X_train,Y_train)"
      ]
    },
    {
      "cell_type": "code",
      "execution_count": 40,
      "id": "564962d5-7003-41da-a473-25afe31353f1",
      "metadata": {
        "id": "564962d5-7003-41da-a473-25afe31353f1",
        "outputId": "3e04edb7-0ff5-487c-beca-a8a9eab161cc",
        "colab": {
          "base_uri": "https://localhost:8080/",
          "height": 178
        }
      },
      "outputs": [
        {
          "output_type": "execute_result",
          "data": {
            "text/plain": [
              "left\n",
              "0    7991\n",
              "1    7991\n",
              "Name: count, dtype: int64"
            ],
            "text/html": [
              "<div>\n",
              "<style scoped>\n",
              "    .dataframe tbody tr th:only-of-type {\n",
              "        vertical-align: middle;\n",
              "    }\n",
              "\n",
              "    .dataframe tbody tr th {\n",
              "        vertical-align: top;\n",
              "    }\n",
              "\n",
              "    .dataframe thead th {\n",
              "        text-align: right;\n",
              "    }\n",
              "</style>\n",
              "<table border=\"1\" class=\"dataframe\">\n",
              "  <thead>\n",
              "    <tr style=\"text-align: right;\">\n",
              "      <th></th>\n",
              "      <th>count</th>\n",
              "    </tr>\n",
              "    <tr>\n",
              "      <th>left</th>\n",
              "      <th></th>\n",
              "    </tr>\n",
              "  </thead>\n",
              "  <tbody>\n",
              "    <tr>\n",
              "      <th>0</th>\n",
              "      <td>7991</td>\n",
              "    </tr>\n",
              "    <tr>\n",
              "      <th>1</th>\n",
              "      <td>7991</td>\n",
              "    </tr>\n",
              "  </tbody>\n",
              "</table>\n",
              "</div><br><label><b>dtype:</b> int64</label>"
            ]
          },
          "metadata": {},
          "execution_count": 40
        }
      ],
      "source": [
        "Y_train_resampled.value_counts()"
      ]
    },
    {
      "cell_type": "markdown",
      "source": [
        "# Training a logistic regression model, applying a 5-fold CV, and plotting the classification report"
      ],
      "metadata": {
        "id": "WnO7Maqv-oV3"
      },
      "id": "WnO7Maqv-oV3"
    },
    {
      "cell_type": "code",
      "execution_count": 42,
      "id": "8ca16a6f-bd59-499d-8d81-3faa0121f6b1",
      "metadata": {
        "id": "8ca16a6f-bd59-499d-8d81-3faa0121f6b1"
      },
      "outputs": [],
      "source": [
        "#Train a logistic regression model, applying a 5-fold CV, and plotting the classification report\n",
        "from sklearn.linear_model import LogisticRegression\n",
        "from sklearn.model_selection import cross_val_score\n",
        "\n",
        "model_logistic = LogisticRegression(max_iter=2000,random_state = 123)\n",
        "model_logistic.fit(X_train_resampled,Y_train_resampled)\n",
        "\n",
        "scores_logistic = cross_val_score(model_logistic,features,label,cv=5)"
      ]
    },
    {
      "cell_type": "code",
      "execution_count": 43,
      "id": "e3623f72-6987-4577-ae65-a00ed513bf0f",
      "metadata": {
        "id": "e3623f72-6987-4577-ae65-a00ed513bf0f",
        "outputId": "616a2663-b79a-40a5-ca54-50c6578bfb2c",
        "colab": {
          "base_uri": "https://localhost:8080/"
        }
      },
      "outputs": [
        {
          "output_type": "execute_result",
          "data": {
            "text/plain": [
              "array([0.84535223, 0.83361134, 0.84028357, 0.83778148, 0.75104254])"
            ]
          },
          "metadata": {},
          "execution_count": 43
        }
      ],
      "source": [
        "scores_logistic"
      ]
    },
    {
      "cell_type": "code",
      "execution_count": 44,
      "id": "24239fb8-4c14-473c-ad05-ddaa7657f98f",
      "metadata": {
        "id": "24239fb8-4c14-473c-ad05-ddaa7657f98f",
        "outputId": "ede0bbd7-190b-4eb9-c476-adcfd3f63d9c",
        "colab": {
          "base_uri": "https://localhost:8080/"
        }
      },
      "outputs": [
        {
          "output_type": "stream",
          "name": "stdout",
          "text": [
            "Minimum Threshold score (CL) :  0.8216142325079152\n",
            "Suggested SL value for the given dataset is  0.1783857674920848\n"
          ]
        }
      ],
      "source": [
        "# Benchmark Score\n",
        "print(\"Minimum Threshold score (CL) : \", scores_logistic.mean())\n",
        "print(\"Suggested SL value for the given dataset is \", 1 - scores_logistic.mean())"
      ]
    },
    {
      "cell_type": "code",
      "execution_count": 45,
      "id": "4e56fa0e-63a1-4592-b4d9-78c69d89098d",
      "metadata": {
        "id": "4e56fa0e-63a1-4592-b4d9-78c69d89098d",
        "outputId": "f6e88b74-2224-46a7-de33-f63ca61fdac4",
        "colab": {
          "base_uri": "https://localhost:8080/"
        }
      },
      "outputs": [
        {
          "output_type": "stream",
          "name": "stdout",
          "text": [
            "Minimum Threshold score (CL) :  0.7510425354462051\n",
            "Suggested SL value for the given dataset is  0.24895746455379486\n"
          ]
        }
      ],
      "source": [
        "#  Benchmark Score\n",
        "print(\"Minimum Threshold score (CL) : \", scores_logistic.min())\n",
        "print(\"Suggested SL value for the given dataset is \", 1 - scores_logistic.min())"
      ]
    },
    {
      "cell_type": "code",
      "execution_count": 47,
      "id": "d5dd9866-9dce-4d10-88ec-4b8734da7cec",
      "metadata": {
        "id": "d5dd9866-9dce-4d10-88ec-4b8734da7cec",
        "outputId": "c5f97a24-15a6-4857-8f49-4e6d0ee6cba8",
        "colab": {
          "base_uri": "https://localhost:8080/"
        }
      },
      "outputs": [
        {
          "output_type": "stream",
          "name": "stdout",
          "text": [
            "              precision    recall  f1-score   support\n",
            "\n",
            "           0       0.92      0.86      0.89     10000\n",
            "           1       0.46      0.61      0.52      1991\n",
            "\n",
            "    accuracy                           0.82     11991\n",
            "   macro avg       0.69      0.73      0.71     11991\n",
            "weighted avg       0.84      0.82      0.83     11991\n",
            "\n"
          ]
        }
      ],
      "source": [
        "# Creating classification report\n",
        "from sklearn.metrics import classification_report\n",
        "print(classification_report(label,model_logistic.predict(features)))"
      ]
    },
    {
      "cell_type": "markdown",
      "id": "7c3a86f8-a928-45f2-8613-2d13eae678ce",
      "metadata": {
        "id": "7c3a86f8-a928-45f2-8613-2d13eae678ce"
      },
      "source": [
        "# Training Random Forest Classifier model, applying the 5-fold CV, and plotting the classification report\n"
      ]
    },
    {
      "cell_type": "code",
      "execution_count": 48,
      "id": "42f17f1d-4065-4ee7-af73-2a01b6471f00",
      "metadata": {
        "id": "42f17f1d-4065-4ee7-af73-2a01b6471f00"
      },
      "outputs": [],
      "source": [
        "from sklearn.ensemble import RandomForestClassifier\n",
        "\n",
        "model_RandomF = RandomForestClassifier(random_state = 123)\n",
        "model_RandomF.fit(X_train_resampled,Y_train_resampled)\n",
        "\n",
        "scores_RandomF = cross_val_score(model_RandomF,features,label,cv=5)"
      ]
    },
    {
      "cell_type": "code",
      "execution_count": 49,
      "id": "6383f7f5-9f3c-468c-8bb0-4e9993db7520",
      "metadata": {
        "id": "6383f7f5-9f3c-468c-8bb0-4e9993db7520",
        "outputId": "92b0fd00-193f-42ea-c8ce-9fe9874eeb98",
        "colab": {
          "base_uri": "https://localhost:8080/"
        }
      },
      "outputs": [
        {
          "output_type": "execute_result",
          "data": {
            "text/plain": [
              "array([0.98624427, 0.97998332, 0.98457048, 0.98331943, 0.97998332])"
            ]
          },
          "metadata": {},
          "execution_count": 49
        }
      ],
      "source": [
        "scores_RandomF"
      ]
    },
    {
      "cell_type": "code",
      "execution_count": 50,
      "id": "4521e407-90af-476d-8c37-761ad00a076c",
      "metadata": {
        "id": "4521e407-90af-476d-8c37-761ad00a076c",
        "outputId": "6b940ff8-1ce3-47b2-90ec-a67021dce262",
        "colab": {
          "base_uri": "https://localhost:8080/"
        }
      },
      "outputs": [
        {
          "output_type": "stream",
          "name": "stdout",
          "text": [
            "Minimum Threshold score (CL) :  0.9828201631135576\n",
            "Suggested SL value for the given dataset is  0.017179836886442423\n"
          ]
        }
      ],
      "source": [
        "# Benchmark Score\n",
        "print(\"Minimum Threshold score (CL) : \", scores_RandomF.mean())\n",
        "print(\"Suggested SL value for the given dataset is \", 1 - scores_RandomF.mean())"
      ]
    },
    {
      "cell_type": "code",
      "execution_count": 51,
      "id": "b82d47af-f81c-461f-af13-2b1f66ddd48d",
      "metadata": {
        "id": "b82d47af-f81c-461f-af13-2b1f66ddd48d",
        "outputId": "17f2f7c9-e264-43b1-c623-eed0668e01dc",
        "colab": {
          "base_uri": "https://localhost:8080/"
        }
      },
      "outputs": [
        {
          "output_type": "stream",
          "name": "stdout",
          "text": [
            "Minimum Threshold score (CL) :  0.9799833194328608\n",
            "Suggested SL value for the given dataset is  0.020016680567139233\n"
          ]
        }
      ],
      "source": [
        "#  Benchmark Score\n",
        "print(\"Minimum Threshold score (CL) : \", scores_RandomF.min())\n",
        "print(\"Suggested SL value for the given dataset is \", 1 - scores_RandomF.min())"
      ]
    },
    {
      "cell_type": "code",
      "execution_count": 53,
      "id": "2cdf4cbc-f9dd-4897-b620-3174808ac9b0",
      "metadata": {
        "id": "2cdf4cbc-f9dd-4897-b620-3174808ac9b0",
        "outputId": "757a02ae-4f11-4009-e1be-3efa65ed3363",
        "colab": {
          "base_uri": "https://localhost:8080/"
        }
      },
      "outputs": [
        {
          "output_type": "stream",
          "name": "stdout",
          "text": [
            "              precision    recall  f1-score   support\n",
            "\n",
            "           0       1.00      1.00      1.00     10000\n",
            "           1       0.99      0.99      0.99      1991\n",
            "\n",
            "    accuracy                           1.00     11991\n",
            "   macro avg       0.99      0.99      0.99     11991\n",
            "weighted avg       1.00      1.00      1.00     11991\n",
            "\n"
          ]
        }
      ],
      "source": [
        "# Creating classification report\n",
        "from sklearn.metrics import classification_report\n",
        "print(classification_report(label,model_RandomF.predict(features)))"
      ]
    },
    {
      "cell_type": "markdown",
      "id": "21123174-8c4e-45ea-b08b-526cb6a42db5",
      "metadata": {
        "id": "21123174-8c4e-45ea-b08b-526cb6a42db5"
      },
      "source": [
        "# Training a Gradient Boosting Classifier model, applying the 5-fold CV, and plotting the classification report."
      ]
    },
    {
      "cell_type": "code",
      "execution_count": 54,
      "id": "6e6e616f-813d-44f7-993a-be84ba20e99d",
      "metadata": {
        "id": "6e6e616f-813d-44f7-993a-be84ba20e99d"
      },
      "outputs": [],
      "source": [
        "from sklearn.ensemble import GradientBoostingClassifier\n",
        "model_GBoost = GradientBoostingClassifier(random_state = 123)\n",
        "model_GBoost.fit(X_train_resampled,Y_train_resampled)\n",
        "\n",
        "scores_GBoost = cross_val_score(model_GBoost,features,label,cv=5)"
      ]
    },
    {
      "cell_type": "code",
      "execution_count": 55,
      "id": "89f47690-c368-4d0a-8ccb-ba656f37e150",
      "metadata": {
        "id": "89f47690-c368-4d0a-8ccb-ba656f37e150",
        "outputId": "12abe2c2-c0de-4650-e972-f939dc327323",
        "colab": {
          "base_uri": "https://localhost:8080/"
        }
      },
      "outputs": [
        {
          "output_type": "execute_result",
          "data": {
            "text/plain": [
              "array([0.98541059, 0.97581318, 0.98040033, 0.97956631, 0.97414512])"
            ]
          },
          "metadata": {},
          "execution_count": 55
        }
      ],
      "source": [
        "scores_GBoost"
      ]
    },
    {
      "cell_type": "code",
      "execution_count": 56,
      "id": "bf4cd455-db51-4c5d-a0ce-52b7059a133b",
      "metadata": {
        "id": "bf4cd455-db51-4c5d-a0ce-52b7059a133b",
        "outputId": "b448bec1-79f5-47d2-ea90-f4c0cb0568a3",
        "colab": {
          "base_uri": "https://localhost:8080/"
        }
      },
      "outputs": [
        {
          "output_type": "stream",
          "name": "stdout",
          "text": [
            "Minimum Threshold score (CL) :  0.9790671050385533\n",
            "Suggested SL value for the given dataset is  0.02093289496144668\n"
          ]
        }
      ],
      "source": [
        "# Benchmark Score\n",
        "print(\"Minimum Threshold score (CL) : \", scores_GBoost.mean())\n",
        "print(\"Suggested SL value for the given dataset is \", 1 - scores_GBoost.mean())"
      ]
    },
    {
      "cell_type": "code",
      "execution_count": 57,
      "id": "05658dd8-ff3c-4a6f-abe7-46bb558b9a36",
      "metadata": {
        "id": "05658dd8-ff3c-4a6f-abe7-46bb558b9a36",
        "outputId": "8ef0f4e9-72c5-42b7-c4c0-7ca6e380362a",
        "colab": {
          "base_uri": "https://localhost:8080/"
        }
      },
      "outputs": [
        {
          "output_type": "stream",
          "name": "stdout",
          "text": [
            "Minimum Threshold score (CL) :  0.9741451209341118\n",
            "Suggested SL value for the given dataset is  0.025854879065888237\n"
          ]
        }
      ],
      "source": [
        "#  Benchmark Score\n",
        "print(\"Minimum Threshold score (CL) : \", scores_GBoost.min())\n",
        "print(\"Suggested SL value for the given dataset is \", 1 - scores_GBoost.min())"
      ]
    },
    {
      "cell_type": "code",
      "execution_count": 58,
      "id": "389837b0-fddf-488b-bad0-af52953aa172",
      "metadata": {
        "id": "389837b0-fddf-488b-bad0-af52953aa172",
        "outputId": "b3a4c74e-620c-47bc-96bf-df0d4a4d7741",
        "colab": {
          "base_uri": "https://localhost:8080/"
        }
      },
      "outputs": [
        {
          "output_type": "stream",
          "name": "stdout",
          "text": [
            "              precision    recall  f1-score   support\n",
            "\n",
            "           0       0.99      0.98      0.98     10000\n",
            "           1       0.89      0.94      0.91      1991\n",
            "\n",
            "    accuracy                           0.97     11991\n",
            "   macro avg       0.94      0.96      0.95     11991\n",
            "weighted avg       0.97      0.97      0.97     11991\n",
            "\n"
          ]
        }
      ],
      "source": [
        "# Creating classification report\n",
        "from sklearn.metrics import classification_report\n",
        "print(classification_report(label,model_GBoost.predict(features)))"
      ]
    },
    {
      "cell_type": "markdown",
      "source": [
        "# ROC-AUC score"
      ],
      "metadata": {
        "id": "oLNMpfiTATEZ"
      },
      "id": "oLNMpfiTATEZ"
    },
    {
      "cell_type": "raw",
      "id": "d665c1fc-3e56-42fb-bcea-c2fccc298dbc",
      "metadata": {
        "id": "d665c1fc-3e56-42fb-bcea-c2fccc298dbc"
      },
      "source": [
        "LOGISTIC REGRESSION"
      ]
    },
    {
      "cell_type": "code",
      "execution_count": 62,
      "id": "9a904c9d-ed68-4425-9588-9442912fe4bb",
      "metadata": {
        "id": "9a904c9d-ed68-4425-9588-9442912fe4bb",
        "outputId": "de797a4e-497e-4f95-a919-366d5f059e76",
        "colab": {
          "base_uri": "https://localhost:8080/"
        }
      },
      "outputs": [
        {
          "output_type": "execute_result",
          "data": {
            "text/plain": [
              "array([0, 1, 0, ..., 0, 1, 0])"
            ]
          },
          "metadata": {},
          "execution_count": 62
        }
      ],
      "source": [
        "model_logistic.predict(X_test)"
      ]
    },
    {
      "cell_type": "code",
      "execution_count": 63,
      "id": "5a1df8e4-ba5c-450a-9e8e-c6744e4fcfb6",
      "metadata": {
        "id": "5a1df8e4-ba5c-450a-9e8e-c6744e4fcfb6",
        "outputId": "ad6ddaa6-11a6-41c8-f894-d04806d4853d",
        "colab": {
          "base_uri": "https://localhost:8080/"
        }
      },
      "outputs": [
        {
          "output_type": "execute_result",
          "data": {
            "text/plain": [
              "array([[0.91420007, 0.08579993],\n",
              "       [0.49697685, 0.50302315],\n",
              "       [0.86271237, 0.13728763],\n",
              "       ...,\n",
              "       [0.96897567, 0.03102433],\n",
              "       [0.3536205 , 0.6463795 ],\n",
              "       [0.9670781 , 0.0329219 ]])"
            ]
          },
          "metadata": {},
          "execution_count": 63
        }
      ],
      "source": [
        "model_logistic.predict_proba(X_test)"
      ]
    },
    {
      "cell_type": "code",
      "execution_count": 64,
      "id": "d54439a6-efa6-42aa-ae78-70f5772b3189",
      "metadata": {
        "id": "d54439a6-efa6-42aa-ae78-70f5772b3189"
      },
      "outputs": [],
      "source": [
        "# Import ROC\n",
        "from sklearn.metrics import roc_curve\n",
        "from sklearn.metrics import roc_auc_score"
      ]
    },
    {
      "cell_type": "code",
      "execution_count": 65,
      "id": "61835900-ae2b-46b6-8ec6-84ed7f7c1dde",
      "metadata": {
        "id": "61835900-ae2b-46b6-8ec6-84ed7f7c1dde"
      },
      "outputs": [],
      "source": [
        "# Step 1 - Extract prob value of 1\n",
        "probability_Logistic = model_logistic.predict_proba(X_test)[:,1]"
      ]
    },
    {
      "cell_type": "code",
      "execution_count": 66,
      "id": "10e4c4a5-3366-4e6f-9c78-5e9670f5fe5f",
      "metadata": {
        "id": "10e4c4a5-3366-4e6f-9c78-5e9670f5fe5f"
      },
      "outputs": [],
      "source": [
        "# Step 2 - Calculate AUC\n",
        "auc_Logistic = roc_auc_score(Y_test,probability_Logistic)"
      ]
    },
    {
      "cell_type": "code",
      "execution_count": 69,
      "id": "4697ce55-e8ef-40f7-b4db-6e1b5949fc0d",
      "metadata": {
        "id": "4697ce55-e8ef-40f7-b4db-6e1b5949fc0d",
        "outputId": "c1cc4321-127d-4932-d28a-a1e0bc061cdf",
        "colab": {
          "base_uri": "https://localhost:8080/",
          "height": 447
        }
      },
      "outputs": [
        {
          "output_type": "stream",
          "name": "stdout",
          "text": [
            "0.8099398858980741\n"
          ]
        },
        {
          "output_type": "display_data",
          "data": {
            "text/plain": [
              "<Figure size 640x480 with 1 Axes>"
            ],
            "image/png": "[encoded data removed]"
          },
          "metadata": {}
        }
      ],
      "source": [
        "# Step 3 - Plot skill line (0,0),(1,1)\n",
        "skill_line_plot= plt.plot([0,1],[0,1],linestyle=\"--\")\n",
        "\n",
        "# Step 4 Plot ROC\n",
        "fpr1,tpr1,_ = roc_curve(Y_test,probability_Logistic)\n",
        "plt.plot(fpr1,tpr1)\n",
        "print(auc_Logistic)"
      ]
    },
    {
      "cell_type": "raw",
      "id": "f43958cb-8cd7-4aaf-a27d-5ceb174c2f2c",
      "metadata": {
        "id": "f43958cb-8cd7-4aaf-a27d-5ceb174c2f2c"
      },
      "source": [
        "RANDOM FOREST CLASSIFIER"
      ]
    },
    {
      "cell_type": "code",
      "execution_count": 70,
      "id": "b02b1c95-806b-4960-a984-ee803b2af5d2",
      "metadata": {
        "id": "b02b1c95-806b-4960-a984-ee803b2af5d2",
        "outputId": "15e9c7a1-525e-4516-bca2-8181db5c806b",
        "colab": {
          "base_uri": "https://localhost:8080/"
        }
      },
      "outputs": [
        {
          "output_type": "execute_result",
          "data": {
            "text/plain": [
              "array([0, 0, 0, ..., 0, 0, 0])"
            ]
          },
          "metadata": {},
          "execution_count": 70
        }
      ],
      "source": [
        "model_RandomF.predict(X_test)"
      ]
    },
    {
      "cell_type": "code",
      "execution_count": 71,
      "id": "8a8377ca-e7af-45b7-a566-79702f036067",
      "metadata": {
        "id": "8a8377ca-e7af-45b7-a566-79702f036067",
        "outputId": "40aa9d9c-cfe6-4068-c039-552f7ae95f25",
        "colab": {
          "base_uri": "https://localhost:8080/"
        }
      },
      "outputs": [
        {
          "output_type": "execute_result",
          "data": {
            "text/plain": [
              "array([[0.96, 0.04],\n",
              "       [0.82, 0.18],\n",
              "       [0.75, 0.25],\n",
              "       ...,\n",
              "       [0.98, 0.02],\n",
              "       [0.93, 0.07],\n",
              "       [1.  , 0.  ]])"
            ]
          },
          "metadata": {},
          "execution_count": 71
        }
      ],
      "source": [
        "model_RandomF.predict_proba(X_test)"
      ]
    },
    {
      "cell_type": "code",
      "execution_count": 72,
      "id": "1c1deb28-5f87-45aa-87e9-e2266b62e139",
      "metadata": {
        "id": "1c1deb28-5f87-45aa-87e9-e2266b62e139"
      },
      "outputs": [],
      "source": [
        "# Step 1 - Extract prob value of 1\n",
        "probability_RandomF = model_RandomF.predict_proba(X_test)[:,1]"
      ]
    },
    {
      "cell_type": "code",
      "execution_count": 73,
      "id": "7efbb08e-451b-4430-b59e-ba0a3bdcb4a0",
      "metadata": {
        "id": "7efbb08e-451b-4430-b59e-ba0a3bdcb4a0"
      },
      "outputs": [],
      "source": [
        "# Step 2 - Calculate AUC\n",
        "auc_RandomF = roc_auc_score(Y_test,probability_RandomF)"
      ]
    },
    {
      "cell_type": "code",
      "execution_count": 74,
      "id": "22823c9e-24e4-4134-a794-0d1ed641e11d",
      "metadata": {
        "id": "22823c9e-24e4-4134-a794-0d1ed641e11d",
        "outputId": "68974833-43d6-4022-ca90-67f6d0ce4c57",
        "colab": {
          "base_uri": "https://localhost:8080/",
          "height": 447
        }
      },
      "outputs": [
        {
          "output_type": "stream",
          "name": "stdout",
          "text": [
            "0.9851284603897844\n"
          ]
        },
        {
          "output_type": "display_data",
          "data": {
            "text/plain": [
              "<Figure size 640x480 with 1 Axes>"
            ],
            "image/png": "[encoded data removed]"
          },
          "metadata": {}
        }
      ],
      "source": [
        "# Step 3 - Plot skill line (0,0),(1,1)\n",
        "skill_line_plot= plt.plot([0,1],[0,1],linestyle=\"--\")\n",
        "\n",
        "# Step 4 Plot ROC\n",
        "fpr2,tpr2,_ = roc_curve(Y_test,probability_RandomF)\n",
        "plt.plot(fpr2,tpr2)\n",
        "print(auc_RandomF)"
      ]
    },
    {
      "cell_type": "raw",
      "id": "6f9df595-25ba-4404-ae4d-a3b73263a847",
      "metadata": {
        "id": "6f9df595-25ba-4404-ae4d-a3b73263a847"
      },
      "source": [
        "**GRADIENT** BOOSTING CLASSIFIER"
      ]
    },
    {
      "cell_type": "code",
      "execution_count": 75,
      "id": "cf9bc9eb-e36d-432c-b327-3de3e5448b67",
      "metadata": {
        "id": "cf9bc9eb-e36d-432c-b327-3de3e5448b67",
        "outputId": "3a92fa23-aa4c-4586-da11-4076ce995815",
        "colab": {
          "base_uri": "https://localhost:8080/"
        }
      },
      "outputs": [
        {
          "output_type": "execute_result",
          "data": {
            "text/plain": [
              "array([0, 0, 0, ..., 0, 0, 0])"
            ]
          },
          "metadata": {},
          "execution_count": 75
        }
      ],
      "source": [
        "model_GBoost.predict(X_test)"
      ]
    },
    {
      "cell_type": "code",
      "execution_count": 76,
      "id": "4f217aab-49f5-4d7f-91be-f684c4a11bb7",
      "metadata": {
        "id": "4f217aab-49f5-4d7f-91be-f684c4a11bb7",
        "outputId": "c27226c4-5bbc-487f-95fd-07f07554a7f7",
        "colab": {
          "base_uri": "https://localhost:8080/"
        }
      },
      "outputs": [
        {
          "output_type": "execute_result",
          "data": {
            "text/plain": [
              "array([[0.93241551, 0.06758449],\n",
              "       [0.94245278, 0.05754722],\n",
              "       [0.85204061, 0.14795939],\n",
              "       ...,\n",
              "       [0.97876844, 0.02123156],\n",
              "       [0.86121473, 0.13878527],\n",
              "       [0.97897741, 0.02102259]])"
            ]
          },
          "metadata": {},
          "execution_count": 76
        }
      ],
      "source": [
        "model_GBoost.predict_proba(X_test)"
      ]
    },
    {
      "cell_type": "code",
      "execution_count": 77,
      "id": "fcca6418-28cc-4ff3-aacd-e8d03fb57170",
      "metadata": {
        "id": "fcca6418-28cc-4ff3-aacd-e8d03fb57170"
      },
      "outputs": [],
      "source": [
        "# Step 1 - Extract prob value of 1\n",
        "probability_GBoost = model_GBoost.predict_proba(X_test)[:,1]"
      ]
    },
    {
      "cell_type": "code",
      "execution_count": 78,
      "id": "38cfa32e-1491-4c91-9dbf-cad82b38e579",
      "metadata": {
        "id": "38cfa32e-1491-4c91-9dbf-cad82b38e579"
      },
      "outputs": [],
      "source": [
        "# Step 2 - Calculate AUC\n",
        "auc_GBoost = roc_auc_score(Y_test,probability_GBoost)"
      ]
    },
    {
      "cell_type": "code",
      "execution_count": 79,
      "id": "6463cd61-9a54-44c1-9bf9-133d4c5da398",
      "metadata": {
        "id": "6463cd61-9a54-44c1-9bf9-133d4c5da398",
        "outputId": "6394f5d8-ae70-4bac-a4ee-a95925c0a5c8",
        "colab": {
          "base_uri": "https://localhost:8080/",
          "height": 447
        }
      },
      "outputs": [
        {
          "output_type": "stream",
          "name": "stdout",
          "text": [
            "0.9860091128383811\n"
          ]
        },
        {
          "output_type": "display_data",
          "data": {
            "text/plain": [
              "<Figure size 640x480 with 1 Axes>"
            ],
            "image/png": "[encoded data removed]"
          },
          "metadata": {}
        }
      ],
      "source": [
        "# Step 3 - Plot skill line (0,0),(1,1)\n",
        "skill_line_plot= plt.plot([0,1],[0,1],linestyle=\"--\")\n",
        "\n",
        "# Step 4 Plot ROC\n",
        "fpr3,tpr3,_ = roc_curve(Y_test,probability_GBoost)\n",
        "plt.plot(fpr3,tpr3)\n",
        "print(auc_GBoost)"
      ]
    },
    {
      "cell_type": "markdown",
      "source": [
        "# Confusion matrix"
      ],
      "metadata": {
        "id": "R86woZMSAbGF"
      },
      "id": "R86woZMSAbGF"
    },
    {
      "cell_type": "code",
      "execution_count": 80,
      "id": "b499f8fa-de3f-41eb-99c8-636768139c01",
      "metadata": {
        "id": "b499f8fa-de3f-41eb-99c8-636768139c01",
        "outputId": "c8e0c662-46d4-481a-ece0-b81e92260f6a",
        "colab": {
          "base_uri": "https://localhost:8080/"
        }
      },
      "outputs": [
        {
          "output_type": "execute_result",
          "data": {
            "text/plain": [
              "array([[8585, 1415],\n",
              "       [ 783, 1208]])"
            ]
          },
          "metadata": {},
          "execution_count": 80
        }
      ],
      "source": [
        "# Logistic Regression\n",
        "from sklearn.metrics import confusion_matrix\n",
        "confusion_matrix(label,model_logistic.predict(features))"
      ]
    },
    {
      "cell_type": "code",
      "execution_count": 81,
      "id": "e7591a77-2ef1-4100-9cc9-62cbcd6146f3",
      "metadata": {
        "id": "e7591a77-2ef1-4100-9cc9-62cbcd6146f3",
        "outputId": "1594d7cf-37f2-4036-ccc8-e171e90888f8",
        "colab": {
          "base_uri": "https://localhost:8080/"
        }
      },
      "outputs": [
        {
          "output_type": "execute_result",
          "data": {
            "text/plain": [
              "array([[9981,   19],\n",
              "       [  29, 1962]])"
            ]
          },
          "metadata": {},
          "execution_count": 81
        }
      ],
      "source": [
        "# RandomForest Classifier\n",
        "from sklearn.metrics import confusion_matrix\n",
        "confusion_matrix(label,model_RandomF.predict(features))"
      ]
    },
    {
      "cell_type": "code",
      "execution_count": 82,
      "id": "b3c029fc-bb6c-41db-a5e1-134f5ee5e440",
      "metadata": {
        "id": "b3c029fc-bb6c-41db-a5e1-134f5ee5e440",
        "outputId": "f2ead5f8-dde8-4e01-a6ca-f1a803cb61db",
        "colab": {
          "base_uri": "https://localhost:8080/"
        }
      },
      "outputs": [
        {
          "output_type": "execute_result",
          "data": {
            "text/plain": [
              "array([[9779,  221],\n",
              "       [ 129, 1862]])"
            ]
          },
          "metadata": {},
          "execution_count": 82
        }
      ],
      "source": [
        "# Gradient Boosting Classifier\n",
        "from sklearn.metrics import confusion_matrix\n",
        "confusion_matrix(label,model_GBoost.predict(features))"
      ]
    },
    {
      "cell_type": "code",
      "source": [
        "# Using the cross validation metric, Random Forest Classifier is the best model.\n",
        "# RandomForest Classifier has lowest SL value, which implies it will give model with lowest error rate."
      ],
      "metadata": {
        "id": "LmD4RstxAmUd"
      },
      "id": "LmD4RstxAmUd",
      "execution_count": 84,
      "outputs": []
    },
    {
      "cell_type": "code",
      "source": [
        "# Using the ROC/AUC metric, Random Forest Classifier is the best model.\n",
        "# RandomForest Classifier has highest AUC score."
      ],
      "metadata": {
        "id": "8EBPU_YHAnxv"
      },
      "id": "8EBPU_YHAnxv",
      "execution_count": 83,
      "outputs": []
    },
    {
      "cell_type": "code",
      "source": [
        "# Using recall, accracy and F1 score, Random Forest Classifier is the best model.\n",
        "# # RandomForest Classifier has highest recall, accracy and F1 score."
      ],
      "metadata": {
        "id": "A0aqbmzDAsRP"
      },
      "id": "A0aqbmzDAsRP",
      "execution_count": 85,
      "outputs": []
    },
    {
      "cell_type": "code",
      "source": [
        "# Hence, using the above evaluation metrics, RandomForestClassifier is the best model to predict employee turover."
      ],
      "metadata": {
        "id": "sBuiUxWrAsOV"
      },
      "id": "sBuiUxWrAsOV",
      "execution_count": 86,
      "outputs": []
    },
    {
      "cell_type": "code",
      "execution_count": 87,
      "id": "3ed1ed90-a544-429c-8c46-5c95f1879e88",
      "metadata": {
        "id": "3ed1ed90-a544-429c-8c46-5c95f1879e88",
        "outputId": "79205bdb-3344-434a-f01d-bdd789795f1e",
        "colab": {
          "base_uri": "https://localhost:8080/"
        }
      },
      "outputs": [
        {
          "output_type": "stream",
          "name": "stdout",
          "text": [
            "[ 4 18 25 ...  2  7  0]\n"
          ]
        }
      ],
      "source": [
        "# Predicting the probability of employee turnover in the test data.\n",
        "probabilities = model_RandomF.predict_proba(X_test)\n",
        "\n",
        "employee_turnover_percentages = (probabilities[:, 1] * 100).astype(int)\n",
        "print(employee_turnover_percentages)\n"
      ]
    },
    {
      "cell_type": "markdown",
      "source": [
        "# Save the trained model (e.g., as a .pkl, .h5, or other appropriate format)."
      ],
      "metadata": {
        "id": "RgcCRtBUCcyY"
      },
      "id": "RgcCRtBUCcyY"
    },
    {
      "cell_type": "code",
      "source": [
        "import pickle\n",
        "\n",
        "# Saving the model as a .pkl file\n",
        "with open('model_RandomF.pkl', 'wb') as file:\n",
        "    pickle.dump(model_RandomF, file)\n"
      ],
      "metadata": {
        "colab": {
          "base_uri": "https://localhost:8080/"
        },
        "id": "T1_GJbz1CM0o",
        "outputId": "78c1fbda-5ad6-4386-feae-d851355cc289"
      },
      "id": "T1_GJbz1CM0o",
      "execution_count": 88,
      "outputs": [
        {
          "output_type": "stream",
          "name": "stdout",
          "text": [
            "total 14M\n",
            "-rw-r--r-- 1 root root 554K Sep 26  2019 HR_comma_sep.csv\n",
            "-rw-r--r-- 1 root root 111K Sep 26  2019 hr-comma-sepcsv.zip\n",
            "-rw-r--r-- 1 root root  13M Feb 13 15:59 model_RandomF.pkl\n",
            "drwxr-xr-x 1 root root 4.0K Feb 11 14:27 sample_data\n"
          ]
        }
      ]
    },
    {
      "cell_type": "code",
      "source": [
        "from google.colab import files\n",
        "files.download('model_RandomF.pkl')\n"
      ],
      "metadata": {
        "colab": {
          "base_uri": "https://localhost:8080/",
          "height": 17
        },
        "id": "xWo63uU_CZtr",
        "outputId": "2de66f76-0c4b-485e-c88c-9fdd2b447b94"
      },
      "id": "xWo63uU_CZtr",
      "execution_count": 89,
      "outputs": [
        {
          "output_type": "display_data",
          "data": {
            "text/plain": [
              "<IPython.core.display.Javascript object>"
            ],
            "application/javascript": [
              "\n",
              "    async function download(id, filename, size) {\n",
              "      if (!google.colab.kernel.accessAllowed) {\n",
              "        return;\n",
              "      }\n",
              "      const div = document.createElement('div');\n",
              "      const label = document.createElement('label');\n",
              "      label.textContent = `Downloading \"${filename}\": `;\n",
              "      div.appendChild(label);\n",
              "      const progress = document.createElement('progress');\n",
              "      progress.max = size;\n",
              "      div.appendChild(progress);\n",
              "      document.body.appendChild(div);\n",
              "\n",
              "      const buffers = [];\n",
              "      let downloaded = 0;\n",
              "\n",
              "      const channel = await google.colab.kernel.comms.open(id);\n",
              "      // Send a message to notify the kernel that we're ready.\n",
              "      channel.send({})\n",
              "\n",
              "      for await (const message of channel.messages) {\n",
              "        // Send a message to notify the kernel that we're ready.\n",
              "        channel.send({})\n",
              "        if (message.buffers) {\n",
              "          for (const buffer of message.buffers) {\n",
              "            buffers.push(buffer);\n",
              "            downloaded += buffer.byteLength;\n",
              "            progress.value = downloaded;\n",
              "          }\n",
              "        }\n",
              "      }\n",
              "      const blob = new Blob(buffers, {type: 'application/binary'});\n",
              "      const a = document.createElement('a');\n",
              "      a.href = window.URL.createObjectURL(blob);\n",
              "      a.download = filename;\n",
              "      div.appendChild(a);\n",
              "      a.click();\n",
              "      div.remove();\n",
              "    }\n",
              "  "
            ]
          },
          "metadata": {}
        },
        {
          "output_type": "display_data",
          "data": {
            "text/plain": [
              "<IPython.core.display.Javascript object>"
            ],
            "application/javascript": [
              "download(\"download_7bbd49e4-92cb-412f-859c-027d0c33613b\", \"model_RandomF.pkl\", 13040652)"
            ]
          },
          "metadata": {}
        }
      ]
    },
    {
      "cell_type": "markdown",
      "source": [
        "# Model Versioning: Implement model versioning, ensuring that each new model trained is tagged with a version number to track improvements over time.\n"
      ],
      "metadata": {
        "id": "282cce-NCmMp"
      },
      "id": "282cce-NCmMp"
    },
    {
      "cell_type": "code",
      "source": [
        "import os\n",
        "\n",
        "# Step 1: Determine the next version number\n",
        "model_name = 'model_RandomF'\n",
        "version = 1\n",
        "\n",
        "# Check for existing versions\n",
        "while os.path.exists(f'{model_name}_v{version}.pkl'):\n",
        "    version += 1\n",
        "\n",
        "# Step 2: Save the model with the version number\n",
        "model_filename = f'{model_name}_v{version}.pkl'\n",
        "with open(model_filename, 'wb') as file:\n",
        "    pickle.dump(model_RandomF, file)\n",
        "\n",
        "print(f'Model saved as: {model_filename}')\n",
        "\n",
        "# Step 3: List all versioned models to track history\n",
        "!ls -lh | grep model_RandomF\n"
      ],
      "metadata": {
        "colab": {
          "base_uri": "https://localhost:8080/"
        },
        "id": "pzphuqXFCg7r",
        "outputId": "458c4db7-86cf-439c-ae04-8e172b21b3ce"
      },
      "id": "pzphuqXFCg7r",
      "execution_count": 90,
      "outputs": [
        {
          "output_type": "stream",
          "name": "stdout",
          "text": [
            "Model saved as: model_RandomF_v1.pkl\n",
            "-rw-r--r-- 1 root root  13M Feb 13 15:59 model_RandomF.pkl\n",
            "-rw-r--r-- 1 root root  13M Feb 13 16:01 model_RandomF_v1.pkl\n"
          ]
        }
      ]
    }
  ],
  "metadata": {
    "kernelspec": {
      "display_name": "Python 3 (ipykernel)",
      "language": "python",
      "name": "python3"
    },
    "language_info": {
      "codemirror_mode": {
        "name": "ipython",
        "version": 3
      },
      "file_extension": ".py",
      "mimetype": "text/x-python",
      "name": "python",
      "nbconvert_exporter": "python",
      "pygments_lexer": "ipython3",
      "version": "3.11.9"
    },
    "colab": {
      "provenance": []
    }
  },
  "nbformat": 4,
  "nbformat_minor": 5
}